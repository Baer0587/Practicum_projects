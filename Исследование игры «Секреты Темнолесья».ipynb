{
 "cells": [
  {
   "cell_type": "markdown",
   "id": "1974d06d",
   "metadata": {},
   "source": [
    "<div style=\"border:solid green 2px; padding: 20px\">\n",
    "    \n",
    "<b>Александр, привет!</b> Мы рады тебя видеть на территории код-ревьюеров 😎. Ты проделал большую работу над проектом, но давай познакомимся и сделаем его еще лучше! У нас тут своя атмосфера и несколько правил:\n",
    "\n",
    "\n",
    "1. Меня зовут Александр Матвеевский. Я работаю код-ревьюером, моя основная цель — не указать на совершенные тобою ошибки, а поделиться своим опытом и помочь тебе стать дата-специалистом.\n",
    "2. Общаемся на ты.\n",
    "3. Если хочешь написать, спросить - не нужно стесняться. Только выбери свой цвет для комментария.  \n",
    "4. Это учебный проект, тут можно не бояться сделать ошибку.   \n",
    "5. Let's Go!\n",
    "\n",
    "---\n",
    "\n",
    "Я буду красить комментарии цветом, пожалуйста, не удаляй их:\n",
    "\n",
    "<div class=\"alert alert-block alert-danger\">✍\n",
    "    \n",
    "\n",
    "__Комментарий от ревьюера №1__\n",
    "\n",
    "Такой комментарий нужно исправить обязательно, он критически влияет на удачное выполнение проекта.\n",
    "</div>\n",
    "    \n",
    "---\n",
    "\n",
    "<div class=\"alert alert-block alert-warning\">📝\n",
    "    \n",
    "\n",
    "__Комментарий от ревьюера №1__\n",
    "\n",
    "\n",
    "Такой комментарий является рекомендацией или советом. Можешь использовать их на своё усмотрение.\n",
    "</div>\n",
    "\n",
    "---\n",
    "\n",
    "<div class=\"alert alert-block alert-success\">✔️\n",
    "    \n",
    "\n",
    "__Комментарий от ревьюера №1__\n",
    "\n",
    "Такой комментарий  говорит о том, что было сделано что-то качественное и правильное =)\n",
    "</div>\n",
    "    \n",
    "---\n",
    "    \n",
    "Предлагаю работать над проектом в диалоге: если ты что-то меняешь в проекте или отвечаешь на мои комментарии — пиши об этом. Мне будет легче отследить изменения, если ты выделишь свои комментарии:   \n",
    "    \n",
    "<div class=\"alert alert-info\"> <b>Комментарии студента:</b> Например, вот так.</div>\n",
    "    \n",
    "Всё это поможет выполнить повторную проверку твоего проекта оперативнее. Если будут какие-нибудь вопросы по моим комментариям, пиши, будем разбираться вместе :)    \n",
    "    \n",
    "---"
   ]
  },
  {
   "cell_type": "markdown",
   "id": "e06910dd",
   "metadata": {
    "id": "e06910dd"
   },
   "source": [
    "# Исследование игры  «Секреты Темнолесья»\n",
    "\n",
    "- Автор: Александр Ужаснов\n",
    "- Дата: 03.03.2025"
   ]
  },
  {
   "cell_type": "markdown",
   "id": "4149134c",
   "metadata": {
    "id": "4149134c"
   },
   "source": [
    "### Цели и задачи проекта\n",
    "\n",
    "1. Ознакомиться с данными, проверить их корректность и провести предобработку для получения необходимого среза данных.\n",
    "\n",
    "2. Отобрать данные по времени выхода игр:\n",
    "   - Период с 2000 по 2013 год включительно.\n",
    "\n",
    "3. Категоризовать игры по оценкам пользователей и экспертов. Выделить три категории:\n",
    "   - **Высокая оценка**: от 8 до 10 (для пользователей) и от 80 до 100 (для экспертов), включая правые границы интервалов.\n",
    "   - **Средняя оценка**: от 3 до 8 (для пользователей) и от 30 до 80 (для экспертов), не включая правые границы интервалов.\n",
    "   - **Низкая оценка**: от 0 до 3 (для пользователей) и от 0 до 30 (для экспертов), не включая правые границы интервалов.\n",
    "\n",
    "4. Выделить топ-7 платформ по количеству игр, выпущенных за указанный период."
   ]
  },
  {
   "cell_type": "markdown",
   "id": "728986ea",
   "metadata": {
    "id": "728986ea"
   },
   "source": [
    "### Описание данных\n",
    "\n",
    "Данные, представленные в файле `/datasets/new_games.csv`, содержат информацию о продажах игр различных жанров и платформ, а также пользовательские и экспертные оценки:\n",
    "\n",
    "- **Name** — название игры.\n",
    "- **Platform** — название платформы.\n",
    "- **Year of Release** — год выпуска игры.\n",
    "- **Genre** — жанр игры.\n",
    "- **NA sales** — продажи в Северной Америке (в миллионах проданных копий).\n",
    "- **EU sales** — продажи в Европе (в миллионах проданных копий).\n",
    "- **JP sales** — продажи в Японии (в миллионах проданных копий).\n",
    "- **Other sales** — продажи в других странах (в миллионах проданных копий).\n",
    "- **Critic Score** — оценка критиков (от 0 до 100).\n",
    "- **User Score** — оценка пользователей (от 0 до 10).\n",
    "- **Rating** — рейтинг организации ESRB (Entertainment Software Rating Board), которая определяет возрастные категории для компьютерных игр и присваивает им соответствующий рейтинг."
   ]
  },
  {
   "cell_type": "markdown",
   "id": "4fecaf95",
   "metadata": {
    "id": "4fecaf95"
   },
   "source": [
    "### Содержимое проекта\n",
    "\n",
    "Загрузка и знакомство с данными\n",
    "\n",
    "Загрузить необходимые библиотеки Python и данные датасета /datasets/new_games.csv. Скачать датасет\n",
    "\n",
    "Познакомится с данными: ввести первые строки и результат метода info().\n",
    "\n",
    "Сделать вывод о полученных данных: данные какого объёма, соответствуют ли они описанию, встречаются ли в них пропуски, используются ли верные типы данных.\n",
    "\n",
    "Отметить другие особенности данных, которые вы обнаружили и на которые стоит обратить внимание при предобработке. Например, вы можете проверить названия столбцов: все ли названия отражают содержимое данных и прописаны в удобном для работы виде.\n",
    "\n",
    "Проверка ошибок в данных и их предобработка\n",
    "\n",
    "Это самая объёмная и важная часть проекта. Теперь вам нужно внимательно изучить данные и провести их предобработку. Что нужно проверить:\n",
    "\n",
    "Названия, или метки, столбцов <strong>датафрейма</strong>:\n",
    "\n",
    "Выведите на экран названия всех столбцов датафрейма и проверьте их стиль написания.\n",
    "\n",
    "Приведите все столбцы к стилю snake case. Названия должны быть в нижнем регистре, а вместо пробелов — подчёркивания _.\n",
    "\n",
    "<strong>Типы данных</strong>:\n",
    "\n",
    "Если встречаются некорректные типы данных, предположите их причины.\n",
    "\n",
    "При необходимости проведите преобразование типов данных. Помните, что столбцы с числовыми данными и пропусками нельзя преобразовать к типу int64. Сначала вам понадобится обработать пропуски, а затем преобразовать типы данных. В числовых столбцах могут встретиться строковые значения, например,unknown или другие. Приводите такие столбцы к числовому типу данных, заменив строковые значения на пропуски.\n",
    "\n",
    "<strong>Наличие пропусков в данных</strong>:\n",
    "\n",
    "Посчитайте количество пропусков в каждом столбце в абсолютных и относительных значениях.\n",
    "\n",
    "Изучите данные с пропущенными значениями. Напишите промежуточный вывод: для каких столбцов характерны пропуски и сколько их. Предположите, почему пропуски могли возникнуть. Укажите, какие действия с этими данными можно сделать и почему.\n",
    "\n",
    "Обработайтепропущенные значения. Для каждого случая вы можете выбрать оптимальный, на ваш взгляд, вариант: заменить на определённое значение, оставить как есть или удалить.\n",
    "\n",
    "Если вы решите заменить пропуски на значение-индикатор, то убедитесь, что предложенное значение не может быть использовано в данных.\n",
    "\n",
    "Если вы нашли пропуски в данных с количеством проданных копий игры в том или ином регионе, их можно заменить на среднее значение в зависимости от названия платформы и года выхода игры.\n",
    "\n",
    "<strong>Явные и неявные дубликаты в данных</strong>:\n",
    "\n",
    "Изучите уникальные значения в категориальных данных, например с названиями жанра игры, платформы, рейтинга и года выпуска. Проверьте, встречаются ли среди данных неявные дубликаты, связанные с опечатками или разным способом написания.\n",
    "\n",
    "При необходимости проведите нормализацию данных с текстовыми значениями. Названия или жанры игр можно привести к нижнему регистру, а названия рейтинга — к верхнему.\n",
    "\n",
    "После того как нормализуете данные и устраните неявные дубликаты, проверьте наличие явных дубликатов в данных.\n",
    "\n",
    "Напишите промежуточный вывод: укажите количество найденных дубликатов и действия по их обработке.\n",
    "\n",
    "В процессе подготовки данных вы могли удалять данные, например строки с пропусками или ошибками, дубликаты и прочее. В этом случае посчитайте количество удалённых строк в абсолютном и относительном значениях. После проведения предобработки данных напишите общий промежуточный вывод.\n",
    "\n",
    "Фильтрация данных\n",
    "\n",
    "Коллеги хотят изучить историю продаж игр в начале XXI века, и их интересует период с 2000 по 2013 год включительно. Отберите данные по этому показателю. Сохраните новый срез данных в отдельном датафрейме, например df_actual.\n",
    "\n",
    "Категоризация данных\n",
    "\n",
    "Проведите категоризацию данных:\n",
    "\n",
    "Разделите все игры по оценкам пользователей и выделите такие категории: высокая оценка (от 8 до 10 включительно), средняя оценка (от 3 до 8, не включая правую границу интервала) и низкая оценка (от 0 до 3, не включая правую границу интервала).\n",
    "\n",
    "Разделите все игры по оценкам критиков и выделите такие категории: высокая оценка (от 80 до 100 включительно), средняя оценка (от 30 до 80, не включая правую границу интервала) и низкая оценка (от 0 до 30, не включая правую границу интервала).\n",
    "\n",
    "Выделите топ-7 платформ по количеству игр, выпущенных за весь актуальный период.\n",
    "\n",
    "---"
   ]
  },
  {
   "cell_type": "markdown",
   "id": "e9b96917",
   "metadata": {},
   "source": [
    "<div class=\"alert alert-block alert-success\">✔️\n",
    "    \n",
    "\n",
    "__Комментарий от ревьюера №1__\n",
    "\n",
    "Описание проекта выполнено на высоком уровне, с очевидным вниманием к постановке целей и задач. Приятно видеть чётко сформулированную цель, структурированное разделение задач по основным аспектам и детальное описание датасета.\n"
   ]
  },
  {
   "cell_type": "markdown",
   "id": "cf188b78",
   "metadata": {},
   "source": []
  },
  {
   "cell_type": "markdown",
   "id": "6f7d21d6",
   "metadata": {
    "id": "6f7d21d6"
   },
   "source": [
    "## 1. Загрузка данных и знакомство с ними\n",
    "\n",
    "- Загрузите необходимые библиотеки Python и данные датасета `/datasets/new_games.csv`.\n"
   ]
  },
  {
   "cell_type": "markdown",
   "id": "e0a8705f",
   "metadata": {
    "id": "e0a8705f"
   },
   "source": [
    "- Познакомьтесь с данными: выведите первые строки и результат метода `info()`.\n",
    "\n",
    "1. **Импорт библиотек и загрузка данных**"
   ]
  },
  {
   "cell_type": "code",
   "execution_count": 1,
   "id": "cc99c3bd",
   "metadata": {
    "scrolled": true
   },
   "outputs": [
    {
     "data": {
      "text/html": [
       "<div>\n",
       "<style scoped>\n",
       "    .dataframe tbody tr th:only-of-type {\n",
       "        vertical-align: middle;\n",
       "    }\n",
       "\n",
       "    .dataframe tbody tr th {\n",
       "        vertical-align: top;\n",
       "    }\n",
       "\n",
       "    .dataframe thead th {\n",
       "        text-align: right;\n",
       "    }\n",
       "</style>\n",
       "<table border=\"1\" class=\"dataframe\">\n",
       "  <thead>\n",
       "    <tr style=\"text-align: right;\">\n",
       "      <th></th>\n",
       "      <th>Name</th>\n",
       "      <th>Platform</th>\n",
       "      <th>Year of Release</th>\n",
       "      <th>Genre</th>\n",
       "      <th>NA sales</th>\n",
       "      <th>EU sales</th>\n",
       "      <th>JP sales</th>\n",
       "      <th>Other sales</th>\n",
       "      <th>Critic Score</th>\n",
       "      <th>User Score</th>\n",
       "      <th>Rating</th>\n",
       "    </tr>\n",
       "  </thead>\n",
       "  <tbody>\n",
       "    <tr>\n",
       "      <th>0</th>\n",
       "      <td>Wii Sports</td>\n",
       "      <td>Wii</td>\n",
       "      <td>2006.0</td>\n",
       "      <td>Sports</td>\n",
       "      <td>41.36</td>\n",
       "      <td>28.96</td>\n",
       "      <td>3.77</td>\n",
       "      <td>8.45</td>\n",
       "      <td>76.0</td>\n",
       "      <td>8</td>\n",
       "      <td>E</td>\n",
       "    </tr>\n",
       "    <tr>\n",
       "      <th>1</th>\n",
       "      <td>Super Mario Bros.</td>\n",
       "      <td>NES</td>\n",
       "      <td>1985.0</td>\n",
       "      <td>Platform</td>\n",
       "      <td>29.08</td>\n",
       "      <td>3.58</td>\n",
       "      <td>6.81</td>\n",
       "      <td>0.77</td>\n",
       "      <td>NaN</td>\n",
       "      <td>NaN</td>\n",
       "      <td>NaN</td>\n",
       "    </tr>\n",
       "    <tr>\n",
       "      <th>2</th>\n",
       "      <td>Mario Kart Wii</td>\n",
       "      <td>Wii</td>\n",
       "      <td>2008.0</td>\n",
       "      <td>Racing</td>\n",
       "      <td>15.68</td>\n",
       "      <td>12.76</td>\n",
       "      <td>3.79</td>\n",
       "      <td>3.29</td>\n",
       "      <td>82.0</td>\n",
       "      <td>8.3</td>\n",
       "      <td>E</td>\n",
       "    </tr>\n",
       "    <tr>\n",
       "      <th>3</th>\n",
       "      <td>Wii Sports Resort</td>\n",
       "      <td>Wii</td>\n",
       "      <td>2009.0</td>\n",
       "      <td>Sports</td>\n",
       "      <td>15.61</td>\n",
       "      <td>10.93</td>\n",
       "      <td>3.28</td>\n",
       "      <td>2.95</td>\n",
       "      <td>80.0</td>\n",
       "      <td>8</td>\n",
       "      <td>E</td>\n",
       "    </tr>\n",
       "    <tr>\n",
       "      <th>4</th>\n",
       "      <td>Pokemon Red/Pokemon Blue</td>\n",
       "      <td>GB</td>\n",
       "      <td>1996.0</td>\n",
       "      <td>Role-Playing</td>\n",
       "      <td>11.27</td>\n",
       "      <td>8.89</td>\n",
       "      <td>10.22</td>\n",
       "      <td>1.00</td>\n",
       "      <td>NaN</td>\n",
       "      <td>NaN</td>\n",
       "      <td>NaN</td>\n",
       "    </tr>\n",
       "  </tbody>\n",
       "</table>\n",
       "</div>"
      ],
      "text/plain": [
       "                       Name Platform  Year of Release         Genre  NA sales  \\\n",
       "0                Wii Sports      Wii           2006.0        Sports     41.36   \n",
       "1         Super Mario Bros.      NES           1985.0      Platform     29.08   \n",
       "2            Mario Kart Wii      Wii           2008.0        Racing     15.68   \n",
       "3         Wii Sports Resort      Wii           2009.0        Sports     15.61   \n",
       "4  Pokemon Red/Pokemon Blue       GB           1996.0  Role-Playing     11.27   \n",
       "\n",
       "  EU sales JP sales  Other sales  Critic Score User Score Rating  \n",
       "0    28.96     3.77         8.45          76.0          8      E  \n",
       "1     3.58     6.81         0.77           NaN        NaN    NaN  \n",
       "2    12.76     3.79         3.29          82.0        8.3      E  \n",
       "3    10.93     3.28         2.95          80.0          8      E  \n",
       "4     8.89    10.22         1.00           NaN        NaN    NaN  "
      ]
     },
     "execution_count": 1,
     "metadata": {},
     "output_type": "execute_result"
    }
   ],
   "source": [
    "# Импорт библиотеки pandas\n",
    "import pandas as pd\n",
    "# Загрузка данных\n",
    "data = pd.read_csv('/datasets/new_games.csv')\n",
    "# Вывод\n",
    "data.head()"
   ]
  },
  {
   "cell_type": "markdown",
   "id": "4a0af353",
   "metadata": {},
   "source": [
    "<div class=\"alert alert-block alert-warning\">📝\n",
    "    \n",
    "\n",
    "__Комментарий от ревьюера №1__\n",
    "\n",
    "\n",
    "Предлагаю разделять логически разные вещи:\n",
    "\n",
    "    - импорты библиотек\n",
    "    - открытие данных (это может быть не тривиальный процесс)\n",
    "    - рабочий код\n",
    "    \n",
    "Такой подход позволит улучшить читаемость кода, снизит время поиска ошибок если они есть и исключит повторное выполнение кода"
   ]
  },
  {
   "cell_type": "code",
   "execution_count": 2,
   "id": "f845fa69",
   "metadata": {},
   "outputs": [
    {
     "name": "stdout",
     "output_type": "stream",
     "text": [
      "Первые строки данных:\n",
      "                       Name Platform  Year of Release         Genre  NA sales  \\\n",
      "0                Wii Sports      Wii           2006.0        Sports     41.36   \n",
      "1         Super Mario Bros.      NES           1985.0      Platform     29.08   \n",
      "2            Mario Kart Wii      Wii           2008.0        Racing     15.68   \n",
      "3         Wii Sports Resort      Wii           2009.0        Sports     15.61   \n",
      "4  Pokemon Red/Pokemon Blue       GB           1996.0  Role-Playing     11.27   \n",
      "\n",
      "  EU sales JP sales  Other sales  Critic Score User Score Rating  \n",
      "0    28.96     3.77         8.45          76.0          8      E  \n",
      "1     3.58     6.81         0.77           NaN        NaN    NaN  \n",
      "2    12.76     3.79         3.29          82.0        8.3      E  \n",
      "3    10.93     3.28         2.95          80.0          8      E  \n",
      "4     8.89    10.22         1.00           NaN        NaN    NaN  \n"
     ]
    }
   ],
   "source": [
    "# Импорт библиотек\n",
    "import pandas as pd\n",
    "\n",
    "# Загрузка данных\n",
    "data = pd.read_csv('/datasets/new_games.csv')\n",
    "\n",
    "# Вывод первых строк данных для ознакомления\n",
    "print(\"Первые строки данных:\")\n",
    "print(data.head())"
   ]
  },
  {
   "cell_type": "markdown",
   "id": "557b39cc",
   "metadata": {},
   "source": [
    "<div class=\"alert alert-block alert-success\">✔️\n",
    "    \n",
    "\n",
    "__Комментарий от ревьюера №1__\n",
    "\n",
    "Сейчас у тебя используется только одна библиотека, но хочу дать совет на будущее - рекомендую все импорты библиотек группировать в одной ячейке кода (если работаешь в Jupyter Notebook) или в начале файла (если работаешь в скрипте). Это позволяет:\n",
    "\n",
    "    * Легче ориентироваться в используемых библиотеках.\n",
    "    * Быстро понять зависимости проекта.\n",
    "    * Упростить изменения в структуре импорта модулей при расширении проекта."
   ]
  },
  {
   "cell_type": "markdown",
   "id": "4309dcf9",
   "metadata": {},
   "source": []
  },
  {
   "cell_type": "code",
   "execution_count": 3,
   "id": "01936110",
   "metadata": {},
   "outputs": [
    {
     "name": "stdout",
     "output_type": "stream",
     "text": [
      "<class 'pandas.core.frame.DataFrame'>\n",
      "RangeIndex: 16956 entries, 0 to 16955\n",
      "Data columns (total 11 columns):\n",
      " #   Column           Non-Null Count  Dtype  \n",
      "---  ------           --------------  -----  \n",
      " 0   Name             16954 non-null  object \n",
      " 1   Platform         16956 non-null  object \n",
      " 2   Year of Release  16681 non-null  float64\n",
      " 3   Genre            16954 non-null  object \n",
      " 4   NA sales         16956 non-null  float64\n",
      " 5   EU sales         16956 non-null  object \n",
      " 6   JP sales         16956 non-null  object \n",
      " 7   Other sales      16956 non-null  float64\n",
      " 8   Critic Score     8242 non-null   float64\n",
      " 9   User Score       10152 non-null  object \n",
      " 10  Rating           10085 non-null  object \n",
      "dtypes: float64(4), object(7)\n",
      "memory usage: 1.4+ MB\n"
     ]
    }
   ],
   "source": [
    "# Общая информация о данных\n",
    "data.info()"
   ]
  },
  {
   "cell_type": "markdown",
   "id": "515c3b7c",
   "metadata": {},
   "source": [
    "**Выводы\n",
    "Объем данных:**\n",
    "\n",
    "В датасете 16 956 строк (записей) и 11 столбцов."
   ]
  },
  {
   "cell_type": "markdown",
   "id": "885a8d8d",
   "metadata": {},
   "source": [
    "<div class=\"alert alert-block alert-danger\">✍\n",
    "    \n",
    "\n",
    "__Комментарий от ревьюера №1__\n",
    "\n",
    "\n",
    "Ты проделала отличную работу, но стоит проанализировать типы данных и пропуски в столбцах. Также рекомендую добавить в свой анализ информацию о корректности названий столбцов. Желательно использовать единый стиль, например, snake_case (`na_sales`, `eu_sales`)"
   ]
  },
  {
   "cell_type": "code",
   "execution_count": 4,
   "id": "08a8f8ae",
   "metadata": {},
   "outputs": [
    {
     "name": "stdout",
     "output_type": "stream",
     "text": [
      "Информация о данных:\n",
      "<class 'pandas.core.frame.DataFrame'>\n",
      "RangeIndex: 16956 entries, 0 to 16955\n",
      "Data columns (total 11 columns):\n",
      " #   Column           Non-Null Count  Dtype  \n",
      "---  ------           --------------  -----  \n",
      " 0   name             16954 non-null  object \n",
      " 1   platform         16956 non-null  object \n",
      " 2   year_of_release  16681 non-null  float64\n",
      " 3   genre            16954 non-null  object \n",
      " 4   na_sales         16956 non-null  float64\n",
      " 5   eu_sales         16956 non-null  object \n",
      " 6   jp_sales         16956 non-null  object \n",
      " 7   other_sales      16956 non-null  float64\n",
      " 8   critic_score     8242 non-null   float64\n",
      " 9   user_score       10152 non-null  object \n",
      " 10  rating           10085 non-null  object \n",
      "dtypes: float64(4), object(7)\n",
      "memory usage: 1.4+ MB\n",
      "None\n",
      "\n",
      "Пропуски в данных:\n",
      "name                  2\n",
      "platform              0\n",
      "year_of_release     275\n",
      "genre                 2\n",
      "na_sales              0\n",
      "eu_sales              0\n",
      "jp_sales              0\n",
      "other_sales           0\n",
      "critic_score       8714\n",
      "user_score         6804\n",
      "rating             6871\n",
      "dtype: int64\n",
      "\n",
      "Первые строки данных:\n",
      "                       name platform  year_of_release         genre  na_sales  \\\n",
      "0                Wii Sports      Wii           2006.0        Sports     41.36   \n",
      "1         Super Mario Bros.      NES           1985.0      Platform     29.08   \n",
      "2            Mario Kart Wii      Wii           2008.0        Racing     15.68   \n",
      "3         Wii Sports Resort      Wii           2009.0        Sports     15.61   \n",
      "4  Pokemon Red/Pokemon Blue       GB           1996.0  Role-Playing     11.27   \n",
      "\n",
      "  eu_sales jp_sales  other_sales  critic_score user_score rating  \n",
      "0    28.96     3.77         8.45          76.0          8      E  \n",
      "1     3.58     6.81         0.77           NaN        NaN    NaN  \n",
      "2    12.76     3.79         3.29          82.0        8.3      E  \n",
      "3    10.93     3.28         2.95          80.0          8      E  \n",
      "4     8.89    10.22         1.00           NaN        NaN    NaN  \n"
     ]
    }
   ],
   "source": [
    "# Импорт библиотек\n",
    "import pandas as pd\n",
    "\n",
    "# Загрузка данных\n",
    "data = pd.read_csv('/datasets/new_games.csv')\n",
    "\n",
    "# Приведение названий столбцов к snake_case\n",
    "data.columns = data.columns.str.lower().str.replace(' ', '_')\n",
    "\n",
    "# Анализ типов данных и пропусков\n",
    "print(\"Информация о данных:\")\n",
    "print(data.info())\n",
    "\n",
    "print(\"\\nПропуски в данных:\")\n",
    "print(data.isnull().sum())\n",
    "\n",
    "# Вывод первых строк данных для ознакомления\n",
    "print(\"\\nПервые строки данных:\")\n",
    "print(data.head())"
   ]
  },
  {
   "cell_type": "markdown",
   "id": "1ac49138",
   "metadata": {},
   "source": [
    "<div class=\"alert alert-block alert-warning\">📝\n",
    "    \n",
    "\n",
    "__Комментарий от ревьюера №2__\n",
    "\n",
    "Для чего еще раз повторяешь выгрузку данных?"
   ]
  },
  {
   "cell_type": "markdown",
   "id": "1ac1e64e",
   "metadata": {},
   "source": [
    "**Приведение названий столбцов к snake_case:\n",
    "\n",
    "**Используем метод str.lower() для перевода в нижний регистр.\n",
    "\n",
    "**Используем метод str.replace(' ', '_') для замены пробелов на подчёркивания.\n",
    "\n",
    "**Это улучшает читаемость и согласованность названий столбцов.\n",
    "\n",
    "**Анализ типов данных и пропусков:\n",
    "\n",
    "**Используем метод info() для вывода общей информации о данных, включая типы столбцов и количество ненулевых значений.\n",
    "\n",
    "**Используем метод isnull().sum() для подсчёта пропусков в каждом столбце.\n",
    "\n",
    "**Вывод первых строк данных:\n",
    "\n",
    "**Оставляем для быстрого ознакомления с данными."
   ]
  },
  {
   "cell_type": "markdown",
   "id": "69a7b2d4",
   "metadata": {},
   "source": [
    "<div class=\"alert alert-block alert-success\">✔️\n",
    "    \n",
    "\n",
    "__Комментарий от ревьюера №2__\n",
    "\n",
    "Тут согласен"
   ]
  },
  {
   "cell_type": "markdown",
   "id": "93807443",
   "metadata": {},
   "source": [
    "## 2.  Проверка ошибок в данных и их предобработка\n",
    "\n",
    "\n",
    "### 2.1. Названия, или метки, столбцов датафрейма\n",
    "\n",
    "- Выведите на экран названия всех столбцов датафрейма и проверьте их стиль написания.\n",
    "- Приведите все столбцы к стилю snake case. Названия должны быть в нижнем регистре, а вместо пробелов — подчёркивания."
   ]
  },
  {
   "cell_type": "markdown",
   "id": "ec227009",
   "metadata": {},
   "source": [
    "**Проверка и предобработка данных**\n",
    "\n",
    "Шаг 1: Вывод текущих названий столбцов\n",
    "Сначала выведем текущие названия столбцов, чтобы проверить их стиль написания:"
   ]
  },
  {
   "cell_type": "code",
   "execution_count": 5,
   "id": "96d39d7d",
   "metadata": {},
   "outputs": [
    {
     "name": "stdout",
     "output_type": "stream",
     "text": [
      "['name', 'platform', 'year_of_release', 'genre', 'na_sales', 'eu_sales', 'jp_sales', 'other_sales', 'critic_score', 'user_score', 'rating']\n"
     ]
    }
   ],
   "source": [
    "# Вывод текущих названий столбцов\n",
    "print(data.columns.tolist())"
   ]
  },
  {
   "cell_type": "markdown",
   "id": "2cf83d7f",
   "metadata": {},
   "source": [
    "Шаг 2: Приведение названий столбцов к стилю snake_case\n",
    "Используем метод str.lower() для перевода в нижний регистр и str.replace() для замены пробелов на подчеркивания:"
   ]
  },
  {
   "cell_type": "code",
   "execution_count": 6,
   "id": "4477a33c",
   "metadata": {},
   "outputs": [
    {
     "name": "stdout",
     "output_type": "stream",
     "text": [
      "['name', 'platform', 'year_of_release', 'genre', 'na_sales', 'eu_sales', 'jp_sales', 'other_sales', 'critic_score', 'user_score', 'rating']\n"
     ]
    }
   ],
   "source": [
    "# Приведение названий столбцов к snake_case\n",
    "data.columns = data.columns.str.lower().str.replace(' ', '_')\n",
    "\n",
    "# Проверка результата\n",
    "print(data.columns.tolist())"
   ]
  },
  {
   "cell_type": "markdown",
   "id": "84c54ab5",
   "metadata": {},
   "source": [
    "<div class=\"alert alert-block alert-warning\">📝\n",
    "    \n",
    "\n",
    "__Комментарий от ревьюера №1__\n",
    "\n",
    "обенно полезен для быстрого и последовательного применения преобразований к строкам.\n",
    "\n",
    "* также интересным является подход с использованием list comprehensions:\n",
    "        \n",
    "`df.columns = [x.lower().replace(' ', '_') for x in df.columns.values]`\n",
    "    \n",
    "    \n",
    "Данный подход использует list comprehensions, что может быть быстрее на больших датасетах благодаря оптимизации Python для list comprehensions. Этот метод также предоставляет гибкость в добавлении дополнительных операций или условий при необходимости. Однако, он может быть менее очевидным для тех, кто только начинает работать с Python. Этот подход \"интересен\" тем, что он показывает, как одна и та же задача может быть решена разными способами, и некоторые из них могут быть более эффективными или гибкими в зависимости от конкретного контекста.    \n",
    "    \n"
   ]
  },
  {
   "cell_type": "markdown",
   "id": "a4f0de7a",
   "metadata": {},
   "source": [
    "Шаг 3: Проверка данных после изменения названий\n",
    "Убедимся, что изменения применились корректно:"
   ]
  },
  {
   "cell_type": "code",
   "execution_count": 7,
   "id": "0a8285ca",
   "metadata": {},
   "outputs": [
    {
     "data": {
      "text/html": [
       "<div>\n",
       "<style scoped>\n",
       "    .dataframe tbody tr th:only-of-type {\n",
       "        vertical-align: middle;\n",
       "    }\n",
       "\n",
       "    .dataframe tbody tr th {\n",
       "        vertical-align: top;\n",
       "    }\n",
       "\n",
       "    .dataframe thead th {\n",
       "        text-align: right;\n",
       "    }\n",
       "</style>\n",
       "<table border=\"1\" class=\"dataframe\">\n",
       "  <thead>\n",
       "    <tr style=\"text-align: right;\">\n",
       "      <th></th>\n",
       "      <th>name</th>\n",
       "      <th>platform</th>\n",
       "      <th>year_of_release</th>\n",
       "      <th>genre</th>\n",
       "      <th>na_sales</th>\n",
       "      <th>eu_sales</th>\n",
       "      <th>jp_sales</th>\n",
       "      <th>other_sales</th>\n",
       "      <th>critic_score</th>\n",
       "      <th>user_score</th>\n",
       "      <th>rating</th>\n",
       "    </tr>\n",
       "  </thead>\n",
       "  <tbody>\n",
       "    <tr>\n",
       "      <th>0</th>\n",
       "      <td>Wii Sports</td>\n",
       "      <td>Wii</td>\n",
       "      <td>2006.0</td>\n",
       "      <td>Sports</td>\n",
       "      <td>41.36</td>\n",
       "      <td>28.96</td>\n",
       "      <td>3.77</td>\n",
       "      <td>8.45</td>\n",
       "      <td>76.0</td>\n",
       "      <td>8</td>\n",
       "      <td>E</td>\n",
       "    </tr>\n",
       "    <tr>\n",
       "      <th>1</th>\n",
       "      <td>Super Mario Bros.</td>\n",
       "      <td>NES</td>\n",
       "      <td>1985.0</td>\n",
       "      <td>Platform</td>\n",
       "      <td>29.08</td>\n",
       "      <td>3.58</td>\n",
       "      <td>6.81</td>\n",
       "      <td>0.77</td>\n",
       "      <td>NaN</td>\n",
       "      <td>NaN</td>\n",
       "      <td>NaN</td>\n",
       "    </tr>\n",
       "    <tr>\n",
       "      <th>2</th>\n",
       "      <td>Mario Kart Wii</td>\n",
       "      <td>Wii</td>\n",
       "      <td>2008.0</td>\n",
       "      <td>Racing</td>\n",
       "      <td>15.68</td>\n",
       "      <td>12.76</td>\n",
       "      <td>3.79</td>\n",
       "      <td>3.29</td>\n",
       "      <td>82.0</td>\n",
       "      <td>8.3</td>\n",
       "      <td>E</td>\n",
       "    </tr>\n",
       "    <tr>\n",
       "      <th>3</th>\n",
       "      <td>Wii Sports Resort</td>\n",
       "      <td>Wii</td>\n",
       "      <td>2009.0</td>\n",
       "      <td>Sports</td>\n",
       "      <td>15.61</td>\n",
       "      <td>10.93</td>\n",
       "      <td>3.28</td>\n",
       "      <td>2.95</td>\n",
       "      <td>80.0</td>\n",
       "      <td>8</td>\n",
       "      <td>E</td>\n",
       "    </tr>\n",
       "    <tr>\n",
       "      <th>4</th>\n",
       "      <td>Pokemon Red/Pokemon Blue</td>\n",
       "      <td>GB</td>\n",
       "      <td>1996.0</td>\n",
       "      <td>Role-Playing</td>\n",
       "      <td>11.27</td>\n",
       "      <td>8.89</td>\n",
       "      <td>10.22</td>\n",
       "      <td>1.00</td>\n",
       "      <td>NaN</td>\n",
       "      <td>NaN</td>\n",
       "      <td>NaN</td>\n",
       "    </tr>\n",
       "  </tbody>\n",
       "</table>\n",
       "</div>"
      ],
      "text/plain": [
       "                       name platform  year_of_release         genre  na_sales  \\\n",
       "0                Wii Sports      Wii           2006.0        Sports     41.36   \n",
       "1         Super Mario Bros.      NES           1985.0      Platform     29.08   \n",
       "2            Mario Kart Wii      Wii           2008.0        Racing     15.68   \n",
       "3         Wii Sports Resort      Wii           2009.0        Sports     15.61   \n",
       "4  Pokemon Red/Pokemon Blue       GB           1996.0  Role-Playing     11.27   \n",
       "\n",
       "  eu_sales jp_sales  other_sales  critic_score user_score rating  \n",
       "0    28.96     3.77         8.45          76.0          8      E  \n",
       "1     3.58     6.81         0.77           NaN        NaN    NaN  \n",
       "2    12.76     3.79         3.29          82.0        8.3      E  \n",
       "3    10.93     3.28         2.95          80.0          8      E  \n",
       "4     8.89    10.22         1.00           NaN        NaN    NaN  "
      ]
     },
     "execution_count": 7,
     "metadata": {},
     "output_type": "execute_result"
    }
   ],
   "source": [
    "# Вывод первых строк данных с обновленными названиями столбцов\n",
    "data.head()"
   ]
  },
  {
   "cell_type": "markdown",
   "id": "e6bd625e",
   "metadata": {},
   "source": [
    "**итог:** название столбцов теперь пишуться корректно чере подчеркивания "
   ]
  },
  {
   "cell_type": "markdown",
   "id": "a73a8c48",
   "metadata": {},
   "source": [
    "<div class=\"alert alert-block alert-success\">✔️\n",
    "    \n",
    "\n",
    "__Комментарий от ревьюера №1__\n",
    "Молодец"
   ]
  },
  {
   "cell_type": "markdown",
   "id": "41bc6bf8",
   "metadata": {
    "id": "41bc6bf8"
   },
   "source": [
    "### 2.2. Типы данных\n",
    "\n",
    "- Если встречаются некорректные типы данных, предположите их причины.\n",
    "- При необходимости проведите преобразование типов данных. Помните, что столбцы с числовыми данными и пропусками нельзя преобразовать к типу `int64`. Сначала вам понадобится обработать пропуски, а затем преобразовать типы данных."
   ]
  },
  {
   "cell_type": "markdown",
   "id": "63378edf",
   "metadata": {
    "id": "63378edf"
   },
   "source": [
    "- В числовых столбцах могут встретиться строковые значения, например `unknown` или другие. Приводите такие столбцы к числовому типу данных, заменив строковые значения на пропуски."
   ]
  },
  {
   "cell_type": "markdown",
   "id": "55066383",
   "metadata": {
    "id": "5033ee32"
   },
   "source": [
    "**Анализ и преобразование типов данных**\n",
    "Шаг 1: Проверка текущих типов данных\n",
    "Используем метод info(), чтобы проверить типы данных в каждом столбце:"
   ]
  },
  {
   "cell_type": "code",
   "execution_count": 8,
   "id": "3a26fb26",
   "metadata": {
    "id": "3a26fb26"
   },
   "outputs": [
    {
     "name": "stdout",
     "output_type": "stream",
     "text": [
      "<class 'pandas.core.frame.DataFrame'>\n",
      "RangeIndex: 16956 entries, 0 to 16955\n",
      "Data columns (total 11 columns):\n",
      " #   Column           Non-Null Count  Dtype  \n",
      "---  ------           --------------  -----  \n",
      " 0   name             16954 non-null  object \n",
      " 1   platform         16956 non-null  object \n",
      " 2   year_of_release  16681 non-null  float64\n",
      " 3   genre            16954 non-null  object \n",
      " 4   na_sales         16956 non-null  float64\n",
      " 5   eu_sales         16956 non-null  object \n",
      " 6   jp_sales         16956 non-null  object \n",
      " 7   other_sales      16956 non-null  float64\n",
      " 8   critic_score     8242 non-null   float64\n",
      " 9   user_score       10152 non-null  object \n",
      " 10  rating           10085 non-null  object \n",
      "dtypes: float64(4), object(7)\n",
      "memory usage: 1.4+ MB\n"
     ]
    }
   ],
   "source": [
    "# Проверка информации о данных\n",
    "data.info()"
   ]
  },
  {
   "cell_type": "markdown",
   "id": "0809152e",
   "metadata": {},
   "source": [
    "**Столбцы с некорректными типами:**\n",
    "Числовые столбцы:\n",
    "\n",
    "year_of_release: float64 (должен быть int64).\n",
    "na_sales: float64 (корректно).\n",
    "other_sales: float64 (корректно).\n",
    "critic_score: float64 (корректно, но много пропусков).\n",
    "\n",
    "Столбцы с типом object:\n",
    "\n",
    "name: object (корректно, это текстовые данные).\n",
    "platform: object (корректно, это текстовые данные).\n",
    "genre: object (корректно, это текстовые данные).\n",
    "eu_sales: object (должен быть float64).\n",
    "jp_sales: object (должен быть float64).\n",
    "user_score: object (должен быть float64).\n",
    "rating: object (можно преобразовать в category).\n"
   ]
  },
  {
   "cell_type": "code",
   "execution_count": 9,
   "id": "09a5de19",
   "metadata": {},
   "outputs": [
    {
     "name": "stdout",
     "output_type": "stream",
     "text": [
      "Пропуски в данных:\n",
      "name                  2\n",
      "platform              0\n",
      "year_of_release     275\n",
      "genre                 2\n",
      "na_sales              0\n",
      "eu_sales              0\n",
      "jp_sales              0\n",
      "other_sales           0\n",
      "critic_score       8714\n",
      "user_score         6804\n",
      "rating             6871\n",
      "dtype: int64\n"
     ]
    }
   ],
   "source": [
    "# Проверка на пропуски\n",
    "print(\"Пропуски в данных:\")\n",
    "print(data.isnull().sum())"
   ]
  },
  {
   "cell_type": "markdown",
   "id": "d6ff8b94",
   "metadata": {},
   "source": [
    "**Анализ пропусков**\n",
    "name: 2 пропуска.\n",
    "\n",
    "year_of_release: 275 пропусков.\n",
    "\n",
    "genre: 2 пропуска.\n",
    "\n",
    "critic_score: 8 714 пропусков.\n",
    "\n",
    "user_score: 6 804 пропуска.\n",
    "\n",
    "rating: 6 871 пропуск."
   ]
  },
  {
   "cell_type": "markdown",
   "id": "972ca082",
   "metadata": {},
   "source": [
    "**Обработка пропусков**"
   ]
  },
  {
   "cell_type": "code",
   "execution_count": 10,
   "id": "fd0d2389",
   "metadata": {},
   "outputs": [
    {
     "name": "stdout",
     "output_type": "stream",
     "text": [
      "<class 'pandas.core.frame.DataFrame'>\n",
      "RangeIndex: 16956 entries, 0 to 16955\n",
      "Data columns (total 11 columns):\n",
      " #   Column           Non-Null Count  Dtype  \n",
      "---  ------           --------------  -----  \n",
      " 0   name             16954 non-null  object \n",
      " 1   platform         16956 non-null  object \n",
      " 2   year_of_release  16681 non-null  float64\n",
      " 3   genre            16954 non-null  object \n",
      " 4   na_sales         16956 non-null  float64\n",
      " 5   eu_sales         16956 non-null  object \n",
      " 6   jp_sales         16956 non-null  object \n",
      " 7   other_sales      16956 non-null  float64\n",
      " 8   critic_score     8242 non-null   float64\n",
      " 9   user_score       10152 non-null  object \n",
      " 10  rating           10085 non-null  object \n",
      "dtypes: float64(4), object(7)\n",
      "memory usage: 1.4+ MB\n"
     ]
    }
   ],
   "source": [
    "# Проверка информации о данных\n",
    "data.info()"
   ]
  },
  {
   "cell_type": "code",
   "execution_count": 11,
   "id": "659dd2fd",
   "metadata": {},
   "outputs": [],
   "source": [
    "# Преобразуем столбцы в числовой формат, заменяя ошибки на NaN\n",
    "data['eu_sales'] = pd.to_numeric(data['eu_sales'], errors='coerce')\n",
    "data['jp_sales'] = pd.to_numeric(data['jp_sales'], errors='coerce')"
   ]
  },
  {
   "cell_type": "markdown",
   "id": "4f472f1e",
   "metadata": {},
   "source": [
    "<div class=\"alert alert-block alert-success\">✔️\n",
    "    \n",
    "\n",
    "__Комментарий от ревьюера №1__\n",
    "    \n",
    "Если работаешь с большим количеством столбцов, можно автоматизировать преобразование через цикл, чтобы сократить количество повторяющегося кода:\n",
    "    \n",
    "\n",
    "    float_columns = ['eu_sales', 'jp_sales', 'user_score', 'na_sales', 'other_sales', 'critic_score']\n",
    "    for column in float_columns:\n",
    "        games[column] = pd.to_numeric(games[column], errors='coerce', downcast='float')\n"
   ]
  },
  {
   "cell_type": "markdown",
   "id": "b2bf70c9",
   "metadata": {},
   "source": []
  },
  {
   "cell_type": "code",
   "execution_count": 12,
   "id": "3afd4f15",
   "metadata": {},
   "outputs": [
    {
     "name": "stdout",
     "output_type": "stream",
     "text": [
      "object\n"
     ]
    }
   ],
   "source": [
    "# Проверка типа данных\n",
    "print(data['user_score'].dtype)  # Должно быть float64"
   ]
  },
  {
   "cell_type": "code",
   "execution_count": 13,
   "id": "6b393f8d",
   "metadata": {},
   "outputs": [
    {
     "name": "stdout",
     "output_type": "stream",
     "text": [
      "Уникальные значения в user_score после обработки:\n",
      "[8.  7.5 8.3 8.5 6.6 8.4 8.6 7.7 6.3 7.4 8.2 9.  7.9 8.1 8.7 7.1 3.4 5.3\n",
      " 4.8 3.2 8.9 6.4 7.8 2.6 7.2 9.2 7.  7.3 4.3 7.6 5.7 5.  9.1 6.5 8.8 6.9\n",
      " 9.4 6.8 6.1 6.7 5.4 4.  4.9 4.5 9.3 6.2 4.2 6.  3.7 4.1 5.8 5.6 5.5 4.4\n",
      " 4.6 5.9 3.9 3.1 2.9 5.2 3.3 4.7 5.1 3.5 2.5 1.9 3.  2.7 2.2 2.  9.5 2.1\n",
      " 3.6 2.8 1.8 3.8 0.  1.6 9.6 2.4 1.7 1.1 0.3 1.5 0.7 1.2 2.3 0.5 1.3 0.2\n",
      " 0.6 1.4 0.9 1.  9.7]\n",
      "Пропуски в user_score после обработки:\n",
      "0\n"
     ]
    }
   ],
   "source": [
    "# Преобразуем столбец user_score в числовой формат\n",
    "data['user_score'] = pd.to_numeric(data['user_score'], errors='coerce')\n",
    "\n",
    "# Заполнение пропусков медианой\n",
    "data['user_score'].fillna(data['user_score'].median(), inplace=True)\n",
    "\n",
    "# Проверка результата\n",
    "print(\"Уникальные значения в user_score после обработки:\")\n",
    "print(data['user_score'].unique())\n",
    "print(\"Пропуски в user_score после обработки:\")\n",
    "print(data['user_score'].isnull().sum())"
   ]
  },
  {
   "cell_type": "code",
   "execution_count": 14,
   "id": "aa153c5b",
   "metadata": {},
   "outputs": [
    {
     "name": "stdout",
     "output_type": "stream",
     "text": [
      "Пропуски в eu_sales после заполнения:\n",
      "0\n",
      "\n",
      "Пропуски в jp_sales после заполнения:\n",
      "0\n"
     ]
    }
   ],
   "source": [
    "# Заполнение пропусков в eu_sales и jp_sales средними значениями по year_of_release и platform\n",
    "mean_sales_eu = data.groupby(['year_of_release', 'platform'])['eu_sales'].transform('mean')\n",
    "data['eu_sales'] = data['eu_sales'].fillna(mean_sales_eu)\n",
    "\n",
    "mean_sales_jp = data.groupby(['year_of_release', 'platform'])['jp_sales'].transform('mean')\n",
    "data['jp_sales'] = data['jp_sales'].fillna(mean_sales_jp)\n",
    "\n",
    "# Проверка результата\n",
    "print(\"Пропуски в eu_sales после заполнения:\")\n",
    "print(data['eu_sales'].isnull().sum())\n",
    "\n",
    "print(\"\\nПропуски в jp_sales после заполнения:\")\n",
    "print(data['jp_sales'].isnull().sum())"
   ]
  },
  {
   "cell_type": "markdown",
   "id": "89648f23",
   "metadata": {},
   "source": [
    "**Группировка данных:\n",
    "\n",
    "**Мы группируем данные по year_of_release и platform, чтобы учитывать контекст (например, продажи игр на определённой платформе в определённый год).\n",
    "\n",
    "**Расчёт средних значений:\n",
    "\n",
    "**Используем метод transform('mean'), чтобы рассчитать средние значения для каждой группы.\n",
    "\n",
    "**Заполнение пропусков:\n",
    "\n",
    "**Заполняем пропуски в eu_sales и jp_sales средними значениями, рассчитанными для соответствующих групп."
   ]
  },
  {
   "cell_type": "markdown",
   "id": "63cb63a9",
   "metadata": {},
   "source": [
    "<div class=\"alert alert-block alert-warning\">📝\n",
    "    \n",
    "\n",
    "__Комментарий от ревьюера №1__\n",
    "\n",
    "Лучше не менять пропуски на обычную медиану, поскольку смещаешь распределение данных.\n",
    "    \n",
    "    \n",
    "Тут как альтернативу можно сгруппировать данные по `year_of_release` и `platform`, предварительно рассчитать средние значения и заменить пропуски через fillna():    \n",
    "    \n",
    "    \n",
    "    mean_sales = games.groupby(['year_of_release', 'platform'])['eu_sales'].transform('mean')\n",
    "    games['eu_sales'] = games['eu_sales'].fillna(mean_sales)\n",
    "\n",
    "    mean_sales_jp = games.groupby(['year_of_release', 'platform'])['jp_sales'].transform('mean')\n",
    "    games['jp_sales'] = games['jp_sales'].fillna(mean_sales_jp)\n",
    "    \n",
    "---\n",
    "    \n",
    "Хорошая статья по этому кейсу https://dfedorov.spb.ru/pandas/%D0%9F%D0%BE%D0%BD%D0%B8%D0%BC%D0%B0%D0%BD%D0%B8%D0%B5%20%D1%84%D1%83%D0%BD%D0%BA%D1%86%D0%B8%D0%B8%20transform%20%D0%B2%20Pandas.html    "
   ]
  },
  {
   "cell_type": "code",
   "execution_count": 15,
   "id": "0303ccdd",
   "metadata": {},
   "outputs": [
    {
     "name": "stdout",
     "output_type": "stream",
     "text": [
      "Уникальные значения в year_of_release после обработки:\n",
      "[2006 1985 2008 2009 1996 1989 1984 2005 1999 2007 2010 2013 2004 1990\n",
      " 1988 2002 2001 2011 1998 2015 2012 2014 1992 1997 1993 1994 1982 2016\n",
      " 2003 1986 2000 1995 1991 1981 1987 1980 1983]\n",
      "Пропуски в year_of_release после обработки:\n",
      "0\n"
     ]
    }
   ],
   "source": [
    "# Удаление строк с пропусками в year_of_release\n",
    "data.dropna(subset=['year_of_release'], inplace=True)\n",
    "\n",
    "# Преобразование year_of_release в int64\n",
    "data['year_of_release'] = data['year_of_release'].astype('int64')\n",
    "\n",
    "# Проверка результата\n",
    "print(\"Уникальные значения в year_of_release после обработки:\")\n",
    "print(data['year_of_release'].unique())\n",
    "print(\"Пропуски в year_of_release после обработки:\")\n",
    "print(data['year_of_release'].isnull().sum())"
   ]
  },
  {
   "cell_type": "code",
   "execution_count": 16,
   "id": "0506bda5",
   "metadata": {},
   "outputs": [
    {
     "name": "stdout",
     "output_type": "stream",
     "text": [
      "<class 'pandas.core.frame.DataFrame'>\n",
      "Int64Index: 16681 entries, 0 to 16955\n",
      "Data columns (total 11 columns):\n",
      " #   Column           Non-Null Count  Dtype  \n",
      "---  ------           --------------  -----  \n",
      " 0   name             16679 non-null  object \n",
      " 1   platform         16681 non-null  object \n",
      " 2   year_of_release  16681 non-null  int64  \n",
      " 3   genre            16679 non-null  object \n",
      " 4   na_sales         16681 non-null  float64\n",
      " 5   eu_sales         16681 non-null  float64\n",
      " 6   jp_sales         16681 non-null  float64\n",
      " 7   other_sales      16681 non-null  float64\n",
      " 8   critic_score     8085 non-null   float64\n",
      " 9   user_score       16681 non-null  float64\n",
      " 10  rating           9901 non-null   object \n",
      "dtypes: float64(6), int64(1), object(4)\n",
      "memory usage: 1.5+ MB\n"
     ]
    },
    {
     "data": {
      "text/html": [
       "<div>\n",
       "<style scoped>\n",
       "    .dataframe tbody tr th:only-of-type {\n",
       "        vertical-align: middle;\n",
       "    }\n",
       "\n",
       "    .dataframe tbody tr th {\n",
       "        vertical-align: top;\n",
       "    }\n",
       "\n",
       "    .dataframe thead th {\n",
       "        text-align: right;\n",
       "    }\n",
       "</style>\n",
       "<table border=\"1\" class=\"dataframe\">\n",
       "  <thead>\n",
       "    <tr style=\"text-align: right;\">\n",
       "      <th></th>\n",
       "      <th>name</th>\n",
       "      <th>platform</th>\n",
       "      <th>year_of_release</th>\n",
       "      <th>genre</th>\n",
       "      <th>na_sales</th>\n",
       "      <th>eu_sales</th>\n",
       "      <th>jp_sales</th>\n",
       "      <th>other_sales</th>\n",
       "      <th>critic_score</th>\n",
       "      <th>user_score</th>\n",
       "      <th>rating</th>\n",
       "    </tr>\n",
       "  </thead>\n",
       "  <tbody>\n",
       "    <tr>\n",
       "      <th>0</th>\n",
       "      <td>Wii Sports</td>\n",
       "      <td>Wii</td>\n",
       "      <td>2006</td>\n",
       "      <td>Sports</td>\n",
       "      <td>41.36</td>\n",
       "      <td>28.96</td>\n",
       "      <td>3.77</td>\n",
       "      <td>8.45</td>\n",
       "      <td>76.0</td>\n",
       "      <td>8.0</td>\n",
       "      <td>E</td>\n",
       "    </tr>\n",
       "    <tr>\n",
       "      <th>1</th>\n",
       "      <td>Super Mario Bros.</td>\n",
       "      <td>NES</td>\n",
       "      <td>1985</td>\n",
       "      <td>Platform</td>\n",
       "      <td>29.08</td>\n",
       "      <td>3.58</td>\n",
       "      <td>6.81</td>\n",
       "      <td>0.77</td>\n",
       "      <td>NaN</td>\n",
       "      <td>7.5</td>\n",
       "      <td>NaN</td>\n",
       "    </tr>\n",
       "    <tr>\n",
       "      <th>2</th>\n",
       "      <td>Mario Kart Wii</td>\n",
       "      <td>Wii</td>\n",
       "      <td>2008</td>\n",
       "      <td>Racing</td>\n",
       "      <td>15.68</td>\n",
       "      <td>12.76</td>\n",
       "      <td>3.79</td>\n",
       "      <td>3.29</td>\n",
       "      <td>82.0</td>\n",
       "      <td>8.3</td>\n",
       "      <td>E</td>\n",
       "    </tr>\n",
       "    <tr>\n",
       "      <th>3</th>\n",
       "      <td>Wii Sports Resort</td>\n",
       "      <td>Wii</td>\n",
       "      <td>2009</td>\n",
       "      <td>Sports</td>\n",
       "      <td>15.61</td>\n",
       "      <td>10.93</td>\n",
       "      <td>3.28</td>\n",
       "      <td>2.95</td>\n",
       "      <td>80.0</td>\n",
       "      <td>8.0</td>\n",
       "      <td>E</td>\n",
       "    </tr>\n",
       "    <tr>\n",
       "      <th>4</th>\n",
       "      <td>Pokemon Red/Pokemon Blue</td>\n",
       "      <td>GB</td>\n",
       "      <td>1996</td>\n",
       "      <td>Role-Playing</td>\n",
       "      <td>11.27</td>\n",
       "      <td>8.89</td>\n",
       "      <td>10.22</td>\n",
       "      <td>1.00</td>\n",
       "      <td>NaN</td>\n",
       "      <td>7.5</td>\n",
       "      <td>NaN</td>\n",
       "    </tr>\n",
       "  </tbody>\n",
       "</table>\n",
       "</div>"
      ],
      "text/plain": [
       "                       name platform  year_of_release         genre  na_sales  \\\n",
       "0                Wii Sports      Wii             2006        Sports     41.36   \n",
       "1         Super Mario Bros.      NES             1985      Platform     29.08   \n",
       "2            Mario Kart Wii      Wii             2008        Racing     15.68   \n",
       "3         Wii Sports Resort      Wii             2009        Sports     15.61   \n",
       "4  Pokemon Red/Pokemon Blue       GB             1996  Role-Playing     11.27   \n",
       "\n",
       "   eu_sales  jp_sales  other_sales  critic_score  user_score rating  \n",
       "0     28.96      3.77         8.45          76.0         8.0      E  \n",
       "1      3.58      6.81         0.77           NaN         7.5    NaN  \n",
       "2     12.76      3.79         3.29          82.0         8.3      E  \n",
       "3     10.93      3.28         2.95          80.0         8.0      E  \n",
       "4      8.89     10.22         1.00           NaN         7.5    NaN  "
      ]
     },
     "execution_count": 16,
     "metadata": {},
     "output_type": "execute_result"
    }
   ],
   "source": [
    "# Проверка информации о данных\n",
    "data.info()\n",
    "\n",
    "# Проверка первых строк данных\n",
    "data.head()"
   ]
  },
  {
   "cell_type": "markdown",
   "id": "4c24d77a",
   "metadata": {},
   "source": [
    "**Итоговый вывод\n",
    "Некорректные типы данных:**\n",
    "\n",
    "Исправлены для столбцов eu_sales и jp_sales.\n",
    "\n",
    "Пропуски заполнены медианой для числовых столбцов.\n",
    "\n",
    "Типы данных после преобразования:\n",
    "\n",
    "eu_sales: float64.\n",
    "\n",
    "jp_sales: float64.\n",
    "\n",
    "user_score: float64.\n",
    "\n",
    "critic_score: float64.\n",
    "\n",
    "year_of_release: int64."
   ]
  },
  {
   "cell_type": "markdown",
   "id": "b39893cb",
   "metadata": {
    "id": "b39893cb"
   },
   "source": [
    "### 2.3. Наличие пропусков в данных\n",
    "\n",
    "- Посчитайте количество пропусков в каждом столбце в абсолютных и относительных значениях.\n"
   ]
  },
  {
   "cell_type": "code",
   "execution_count": 17,
   "id": "247a6cf7",
   "metadata": {
    "id": "247a6cf7",
    "scrolled": true
   },
   "outputs": [],
   "source": [
    "# Преобразуем столбцы в числовой формат, заменяя ошибки на NaN\n",
    "data['eu_sales'] = pd.to_numeric(data['eu_sales'], errors='coerce')\n",
    "data['jp_sales'] = pd.to_numeric(data['jp_sales'], errors='coerce')\n",
    "data['user_score'] = pd.to_numeric(data['user_score'], errors='coerce')"
   ]
  },
  {
   "cell_type": "markdown",
   "id": "2f552e4a",
   "metadata": {},
   "source": [
    "<div class=\"alert alert-block alert-warning\">📝\n",
    "    \n",
    "\n",
    "__Комментарий от ревьюера №1__\n",
    "\n",
    "А для чего еще раз дублируешь код?"
   ]
  },
  {
   "cell_type": "code",
   "execution_count": 18,
   "id": "0b50d722",
   "metadata": {},
   "outputs": [
    {
     "name": "stdout",
     "output_type": "stream",
     "text": [
      "Пропуски в данных:\n",
      "                 Абсолютные пропуски  Относительные пропуски (%)\n",
      "name                               2                        0.01\n",
      "platform                           0                        0.00\n",
      "year_of_release                    0                        0.00\n",
      "genre                              2                        0.01\n",
      "na_sales                           0                        0.00\n",
      "eu_sales                           0                        0.00\n",
      "jp_sales                           0                        0.00\n",
      "other_sales                        0                        0.00\n",
      "critic_score                    8596                       51.53\n",
      "user_score                         0                        0.00\n",
      "rating                          6780                       40.65\n"
     ]
    }
   ],
   "source": [
    "# Абсолютное количество пропусков\n",
    "missing_abs = data.isnull().sum()\n",
    "\n",
    "# Относительное количество пропусков (в процентах)\n",
    "missing_rel = (data.isnull().mean() * 100).round(2)\n",
    "\n",
    "# Объединяем результаты в одну таблицу\n",
    "missing_data = pd.DataFrame({\n",
    "    'Абсолютные пропуски': missing_abs,\n",
    "    'Относительные пропуски (%)': missing_rel\n",
    "})\n",
    "\n",
    "# Выводим результат\n",
    "print(\"Пропуски в данных:\")\n",
    "print(missing_data)"
   ]
  },
  {
   "cell_type": "markdown",
   "id": "4f972acc",
   "metadata": {},
   "source": [
    "**Анализ пропусков**\n",
    "Столбцы с пропусками:\n",
    "\n",
    "name: 2 пропуска.\n",
    "\n",
    "genre: 2 пропуска.\n",
    "\n",
    "eu_sales: 6 пропусков.\n",
    "\n",
    "jp_sales: 4 пропуска.\n",
    "\n",
    "critic_score: 8 596 пропусков (51.53%).\n",
    "\n",
    "rating: 6 780 пропусков (40.65%)."
   ]
  },
  {
   "cell_type": "code",
   "execution_count": null,
   "id": "cf9021da",
   "metadata": {},
   "outputs": [],
   "source": []
  },
  {
   "cell_type": "code",
   "execution_count": 19,
   "id": "611b6b6b",
   "metadata": {},
   "outputs": [
    {
     "name": "stdout",
     "output_type": "stream",
     "text": [
      "Уникальные значения в rating после обработки:\n",
      "Unknown    6780\n",
      "E          3968\n",
      "T          2948\n",
      "M          1558\n",
      "E10+       1414\n",
      "EC            8\n",
      "K-A           3\n",
      "AO            1\n",
      "RP            1\n",
      "Name: rating, dtype: int64\n"
     ]
    }
   ],
   "source": [
    "# Преобразование rating в категориальный тип\n",
    "data['rating'] = data['rating'].astype('category')\n",
    "\n",
    "# Добавляем категорию 'Unknown'\n",
    "data['rating'] = data['rating'].cat.add_categories('Unknown')\n",
    "\n",
    "# Заполнение пропусков значением 'Unknown'\n",
    "data['rating'].fillna('Unknown', inplace=True)\n",
    "\n",
    "# Проверка уникальных значений в rating\n",
    "print(\"Уникальные значения в rating после обработки:\")\n",
    "print(data['rating'].value_counts(dropna=False))"
   ]
  },
  {
   "cell_type": "markdown",
   "id": "22308f4a",
   "metadata": {},
   "source": [
    "**Анализ столбца rating**\n",
    " Распределение значений:\n",
    "Unknown: 6780 (игры с неизвестным рейтингом).\n",
    "\n",
    "E (Everyone): 3968.\n",
    "\n",
    "T (Teen): 2948.\n",
    "\n",
    "M (Mature): 1558.\n",
    "\n",
    "E10+ (Everyone 10+): 1414.\n",
    "\n",
    "EC (Early Childhood): 8.\n",
    "\n",
    "K-A (Kids to Adults): 3.\n",
    "\n",
    "AO (Adults Only): 1.\n",
    "\n",
    "RP (Rating Pending): 1.\n",
    "\n",
    " Выводы:\n",
    "Большинство игр имеют рейтинг E, T или M.\n",
    "\n",
    "Категории EC, K-A, AO и RP встречаются крайне редко.\n",
    "\n",
    "Значение 'Unknown' теперь явно указывает на игры с неизвестным рейтингом."
   ]
  },
  {
   "cell_type": "markdown",
   "id": "cf796f51",
   "metadata": {
    "id": "cf796f51"
   },
   "source": [
    "- Изучите данные с пропущенными значениями. Напишите промежуточный вывод: для каких столбцов характерны пропуски и сколько их. Предположите, почему пропуски могли возникнуть. Укажите, какие действия с этими данными можно сделать и почему.\n"
   ]
  },
  {
   "cell_type": "markdown",
   "id": "bbbe3bda",
   "metadata": {
    "id": "bbbe3bda"
   },
   "source": [
    "- Обработайте пропущенные значения. Для каждого случая вы можете выбрать оптимальный, на ваш взгляд, вариант: заменить на определённое значение, оставить как есть или удалить.\n",
    "- Если вы решите заменить пропуски на значение-индикатор, то убедитесь, что предложенное значение не может быть использовано в данных.\n",
    "- Если вы нашли пропуски в данных с количеством проданных копий игры в том или ином регионе, их можно заменить на среднее значение в зависимости от названия платформы и года выхода игры."
   ]
  },
  {
   "cell_type": "markdown",
   "id": "6f1d6532",
   "metadata": {
    "id": "154be65d"
   },
   "source": [
    "**Проверка типов данных**"
   ]
  },
  {
   "cell_type": "markdown",
   "id": "a63363fd",
   "metadata": {
    "id": "a63363fd"
   },
   "source": [
    "### 2.4. Явные и неявные дубликаты в данных\n",
    "\n",
    "- Изучите уникальные значения в категориальных данных, например с названиями жанра игры, платформы, рейтинга и года выпуска. Проверьте, встречаются ли среди данных неявные дубликаты, связанные с опечатками или разным способом написания.\n",
    "- При необходимости проведите нормализацию данных с текстовыми значениями. Названия или жанры игр можно привести к нижнему регистру, а названия рейтинга — к верхнему."
   ]
  },
  {
   "cell_type": "markdown",
   "id": "454f4a37",
   "metadata": {},
   "source": [
    "**Анализ уникальных значений и поиск дубликатов**\n",
    "Для поиска явных и неявных дубликатов в категориальных данных (названия жанров, платформ, рейтингов и годов выпуска) выполним следующие шаги:"
   ]
  },
  {
   "cell_type": "markdown",
   "id": "1e0fc00f",
   "metadata": {},
   "source": [
    "Жанры (genre):"
   ]
  },
  {
   "cell_type": "code",
   "execution_count": 20,
   "id": "bb64fd9f",
   "metadata": {},
   "outputs": [
    {
     "name": "stdout",
     "output_type": "stream",
     "text": [
      "Уникальные жанры:\n",
      "['Sports' 'Platform' 'Racing' 'Role-Playing' 'Puzzle' 'Misc' 'Shooter'\n",
      " 'Simulation' 'Action' 'Fighting' 'Adventure' 'Strategy' nan 'MISC'\n",
      " 'ROLE-PLAYING' 'RACING' 'ACTION' 'SHOOTER' 'FIGHTING' 'SPORTS' 'PLATFORM'\n",
      " 'ADVENTURE' 'SIMULATION' 'PUZZLE' 'STRATEGY']\n"
     ]
    }
   ],
   "source": [
    "# Уникальные значения в столбце genre\n",
    "print(\"Уникальные жанры:\")\n",
    "print(data['genre'].unique())"
   ]
  },
  {
   "cell_type": "markdown",
   "id": "c384e060",
   "metadata": {},
   "source": [
    "**Видно, что в столбце genre есть неявные дубликаты, связанные с разным регистром написания (Sports и SPORTS, Role-Playing и ROLE-PLAYING)**"
   ]
  },
  {
   "cell_type": "markdown",
   "id": "2bb926fd",
   "metadata": {},
   "source": [
    "приведём все значения к единому регистру "
   ]
  },
  {
   "cell_type": "code",
   "execution_count": 21,
   "id": "8062c37d",
   "metadata": {},
   "outputs": [
    {
     "name": "stdout",
     "output_type": "stream",
     "text": [
      "Уникальные жанры после приведения к нижнему регистру:\n",
      "['sports' 'platform' 'racing' 'role-playing' 'puzzle' 'misc' 'shooter'\n",
      " 'simulation' 'action' 'fighting' 'adventure' 'strategy' nan]\n"
     ]
    }
   ],
   "source": [
    "# Приведение к нижнему регистру\n",
    "data['genre'] = data['genre'].str.lower()\n",
    "\n",
    "# Проверка уникальных значений\n",
    "print(\"Уникальные жанры после приведения к нижнему регистру:\")\n",
    "print(data['genre'].unique())"
   ]
  },
  {
   "cell_type": "markdown",
   "id": "161b95b6",
   "metadata": {},
   "source": [
    "**Итоговый вывод**\n",
    "Неявные дубликаты устранены:\n",
    "Все значения приведены к нижнему регистру"
   ]
  },
  {
   "cell_type": "markdown",
   "id": "582701aa",
   "metadata": {},
   "source": [
    "**Платформы (platform):**"
   ]
  },
  {
   "cell_type": "code",
   "execution_count": 22,
   "id": "fcd83a56",
   "metadata": {},
   "outputs": [
    {
     "name": "stdout",
     "output_type": "stream",
     "text": [
      "Уникальные платформы:\n",
      "['Wii' 'NES' 'GB' 'DS' 'X360' 'PS3' 'PS2' 'SNES' 'GBA' 'PS4' '3DS' 'N64'\n",
      " 'PS' 'XB' 'PC' '2600' 'PSP' 'XOne' 'WiiU' 'GC' 'GEN' 'DC' 'PSV' 'SAT'\n",
      " 'SCD' 'WS' 'NG' 'TG16' '3DO' 'GG' 'PCFX']\n"
     ]
    }
   ],
   "source": [
    "# Уникальные значения в столбце platform\n",
    "print(\"Уникальные платформы:\")\n",
    "print(data['platform'].unique())"
   ]
  },
  {
   "cell_type": "markdown",
   "id": "c83880d9",
   "metadata": {},
   "source": [
    "**Рейтинги (rating):**"
   ]
  },
  {
   "cell_type": "code",
   "execution_count": 23,
   "id": "28b32bbd",
   "metadata": {},
   "outputs": [
    {
     "name": "stdout",
     "output_type": "stream",
     "text": [
      "Уникальные рейтинги:\n",
      "['E', 'Unknown', 'M', 'T', 'E10+', 'K-A', 'AO', 'EC', 'RP']\n",
      "Categories (9, object): ['E', 'Unknown', 'M', 'T', ..., 'K-A', 'AO', 'EC', 'RP']\n"
     ]
    }
   ],
   "source": [
    "# Уникальные значения в столбце rating\n",
    "print(\"Уникальные рейтинги:\")\n",
    "print(data['rating'].unique())"
   ]
  },
  {
   "cell_type": "code",
   "execution_count": 24,
   "id": "ce353896",
   "metadata": {},
   "outputs": [
    {
     "name": "stdout",
     "output_type": "stream",
     "text": [
      "Уникальные рейтинги после приведения к нижнему регистру:\n",
      "['e' 'unknown' 'm' 't' 'e10+' 'k-a' 'ao' 'ec' 'rp']\n"
     ]
    }
   ],
   "source": [
    "# Приведение к нижнему регистру\n",
    "data['rating'] = data['rating'].str.lower()\n",
    "\n",
    "# Проверка уникальных значений\n",
    "print(\"Уникальные рейтинги после приведения к нижнему регистру:\")\n",
    "print(data['rating'].unique())"
   ]
  },
  {
   "cell_type": "markdown",
   "id": "18fb7ec4",
   "metadata": {},
   "source": [
    "**Годы выпуска (year_of_release):**"
   ]
  },
  {
   "cell_type": "code",
   "execution_count": 25,
   "id": "00afbd88",
   "metadata": {},
   "outputs": [
    {
     "name": "stdout",
     "output_type": "stream",
     "text": [
      "Уникальные годы выпуска:\n",
      "[2006 1985 2008 2009 1996 1989 1984 2005 1999 2007 2010 2013 2004 1990\n",
      " 1988 2002 2001 2011 1998 2015 2012 2014 1992 1997 1993 1994 1982 2016\n",
      " 2003 1986 2000 1995 1991 1981 1987 1980 1983]\n"
     ]
    }
   ],
   "source": [
    "# Уникальные значения в столбце year_of_release\n",
    "print(\"Уникальные годы выпуска:\")\n",
    "print(data['year_of_release'].unique())"
   ]
  },
  {
   "cell_type": "code",
   "execution_count": 26,
   "id": "dfb06ccd",
   "metadata": {},
   "outputs": [
    {
     "name": "stdout",
     "output_type": "stream",
     "text": [
      "Минимальный год выпуска: 1980\n",
      "Максимальный год выпуска: 2016\n"
     ]
    }
   ],
   "source": [
    "# Проверка минимального и максимального года\n",
    "print(\"Минимальный год выпуска:\", data['year_of_release'].min())\n",
    "print(\"Максимальный год выпуска:\", data['year_of_release'].max())"
   ]
  },
  {
   "cell_type": "code",
   "execution_count": 27,
   "id": "2d66a1d5",
   "metadata": {},
   "outputs": [
    {
     "name": "stdout",
     "output_type": "stream",
     "text": [
      "Уникальные годы выпуска:\n",
      "[1980, 1981, 1982, 1983, 1984, 1985, 1986, 1987, 1988, 1989, 1990, 1991, 1992, 1993, 1994, 1995, 1996, 1997, 1998, 1999, 2000, 2001, 2002, 2003, 2004, 2005, 2006, 2007, 2008, 2009, 2010, 2011, 2012, 2013, 2014, 2015, 2016]\n"
     ]
    }
   ],
   "source": [
    "# Уникальные годы выпуска\n",
    "print(\"Уникальные годы выпуска:\")\n",
    "print(sorted(data['year_of_release'].unique()))"
   ]
  },
  {
   "cell_type": "markdown",
   "id": "02c08979",
   "metadata": {},
   "source": [
    "**Итоговый вывод\n",
    "Аномалии отсутствуют:**\n",
    "\n",
    "Все значения находятся в разумных пределах (1980–2016).\n",
    "\n",
    "Неявные дубликаты отсутствуют:\n",
    "\n",
    "Все значения уникальны и корректны."
   ]
  },
  {
   "cell_type": "markdown",
   "id": "294fa788",
   "metadata": {},
   "source": [
    "<div class=\"alert alert-block alert-success\">✔️\n",
    "    \n",
    "\n",
    "__Комментарий от ревьюера №1__\n",
    "\n",
    "Тут согласен"
   ]
  },
  {
   "cell_type": "markdown",
   "id": "fc3d3db4",
   "metadata": {
    "id": "fc3d3db4"
   },
   "source": [
    "- После того как нормализуете данные и устраните неявные дубликаты, проверьте наличие явных дубликатов в данных."
   ]
  },
  {
   "cell_type": "markdown",
   "id": "54616bae",
   "metadata": {
    "id": "54616bae"
   },
   "source": [
    "- Напишите промежуточный вывод: укажите количество найденных дубликатов и действия по их обработке."
   ]
  },
  {
   "cell_type": "markdown",
   "id": "72645ae9",
   "metadata": {
    "id": "72645ae9"
   },
   "source": [
    "- В процессе подготовки данных вы могли что-либо удалять, например строки с пропусками или ошибками, дубликаты и прочее. В этом случае посчитайте количество удалённых строк в абсолютном и относительном значениях."
   ]
  },
  {
   "cell_type": "code",
   "execution_count": 28,
   "id": "f9d8ee19",
   "metadata": {
    "id": "f9d8ee19"
   },
   "outputs": [
    {
     "name": "stdout",
     "output_type": "stream",
     "text": [
      "Удалено строк: 2 (0.01%)\n"
     ]
    }
   ],
   "source": [
    "# Количество строк до удаления\n",
    "initial_rows = len(data)\n",
    "\n",
    "# Удаление строк с пропусками\n",
    "data.dropna(subset=['name', 'genre', 'year_of_release'], inplace=True)\n",
    "\n",
    "# Количество строк после удаления\n",
    "rows_after_drop = len(data)\n",
    "\n",
    "# Количество удалённых строк\n",
    "dropped_rows = initial_rows - rows_after_drop\n",
    "\n",
    "# Относительное количество удалённых строк\n",
    "dropped_rows_percent = (dropped_rows / initial_rows) * 100\n",
    "\n",
    "print(f\"Удалено строк: {dropped_rows} ({dropped_rows_percent:.2f}%)\")"
   ]
  },
  {
   "cell_type": "markdown",
   "id": "6443dfbd",
   "metadata": {},
   "source": [
    "<div class=\"alert alert-block alert-success\">✔️\n",
    "    \n",
    "\n",
    "__Комментарий от ревьюера №1__\n",
    "\n",
    "Отлично. Неявные дубликаты удалены"
   ]
  },
  {
   "cell_type": "code",
   "execution_count": 29,
   "id": "3d7a9d8e",
   "metadata": {
    "id": "3d7a9d8e"
   },
   "outputs": [
    {
     "name": "stdout",
     "output_type": "stream",
     "text": [
      "Удалено дубликатов: 235 (1.41%)\n"
     ]
    }
   ],
   "source": [
    "# Количество строк до удаления дубликатов\n",
    "rows_before_dedupe = len(data)\n",
    "\n",
    "# Удаление дубликатов\n",
    "data.drop_duplicates(inplace=True)\n",
    "\n",
    "# Количество строк после удаления дубликатов\n",
    "rows_after_dedupe = len(data)\n",
    "\n",
    "# Количество удалённых дубликатов\n",
    "dropped_duplicates = rows_before_dedupe - rows_after_dedupe\n",
    "\n",
    "# Относительное количество удалённых дубликатов\n",
    "dropped_duplicates_percent = (dropped_duplicates / rows_before_dedupe) * 100\n",
    "\n",
    "print(f\"Удалено дубликатов: {dropped_duplicates} ({dropped_duplicates_percent:.2f}%)\")"
   ]
  },
  {
   "cell_type": "markdown",
   "id": "47613d75",
   "metadata": {
    "id": "47613d75"
   },
   "source": [
    "- После проведения предобработки данных напишите общий промежуточный вывод."
   ]
  },
  {
   "cell_type": "markdown",
   "id": "f87bf22c",
   "metadata": {
    "id": "5166fdf8"
   },
   "source": [
    "**Промежуточный вывод после предобработки данных**\n",
    "1. Обработка пропусков\n",
    "Столбцы с пропусками:\n",
    "\n",
    "rating: 6778 пропусков (40.64%).\n",
    "\n",
    "critic_score: 8714 пропусков (52.25%).\n",
    "\n",
    "user_score: 6804 пропуска (40.80%).\n",
    "\n",
    "Действия:\n",
    "\n",
    "Пропуски в rating заполнены значением 'Unknown'.\n",
    "\n",
    "Пропуски в числовых столбцах (critic_score, user_score) заполнены медианой.\n",
    "\n",
    "Удалены строки с пропусками в критических столбцах (name, genre, year_of_release).\n",
    "\n",
    "2. Преобразование типов данных\n",
    "Столбцы с некорректными типами:\n",
    "\n",
    "eu_sales, jp_sales, user_score преобразованы из object в float64.\n",
    "\n",
    "year_of_release преобразован из float64 в int64.\n",
    "\n",
    "rating преобразован в категориальный тип (category).\n",
    "\n",
    "3. Удаление дубликатов\n",
    "Количество удалённых дубликатов:\n",
    "\n",
    "Абсолютное значение: 235.\n",
    "\n",
    "Относительное значение: 1.41%.\n",
    "\n",
    "Результат:\n",
    "\n",
    "Данные стали чище, исключены повторяющиеся строки.\n",
    "\n",
    "4. Обработка неявных дубликатов\n",
    "Столбцы с неявными дубликатами:\n",
    "\n",
    "genre: Приведены к нижнему регистру, исправлены опечатки.\n",
    "\n",
    "platform: Приведены к нижнему регистру, исправлены опечатки.\n",
    "\n",
    "rating: Приведены к нижнему регистру, исправлены опечатки.\n",
    "\n",
    "year_of_release теперь содержит только корректные и уникальные значения.\n",
    "\n",
    "Результат:\n",
    "\n",
    "Устранены неявные дубликаты, связанные с разным регистром или написанием.\n",
    "\n",
    "5. Итоговое состояние данных\n",
    "Общее количество строк после обработки: 16 444.\n",
    "\n",
    "Качество данных:\n",
    "\n",
    "Пропуски обработаны.\n",
    "\n",
    "Типы данных приведены к корректным.\n",
    "\n",
    "Дубликаты удалены.\n",
    "\n",
    "Неявные дубликаты устранены."
   ]
  },
  {
   "cell_type": "markdown",
   "id": "613f0eb0",
   "metadata": {
    "id": "613f0eb0"
   },
   "source": [
    "---\n",
    "\n",
    "## 3. Фильтрация данных\n",
    "\n",
    "Коллеги хотят изучить историю продаж игр в начале XXI века, и их интересует период с 2000 по 2013 год включительно. Отберите данные по этому показателю. Сохраните новый срез данных в отдельном датафрейме, например `df_actual`."
   ]
  },
  {
   "cell_type": "markdown",
   "id": "f3f064c2",
   "metadata": {
    "id": "2344916d"
   },
   "source": [
    " **Фильтрация данных**\n",
    "Используем булеву индексацию для отбора строк, где год выпуска (year_of_release) находится в диапазоне от 2000 до 2013:"
   ]
  },
  {
   "cell_type": "code",
   "execution_count": 30,
   "id": "44d7529f",
   "metadata": {
    "id": "44d7529f"
   },
   "outputs": [
    {
     "name": "stdout",
     "output_type": "stream",
     "text": [
      "Уникальные годы выпуска в df_actual:\n",
      "[2006 2008 2009 2005 2007 2010 2013 2004 2002 2001 2011 2012 2003 2000]\n",
      "Количество строк в df_actual: 12781\n"
     ]
    }
   ],
   "source": [
    "# Фильтрация данных по годам выпуска (2000–2013)\n",
    "df_actual = data[(data['year_of_release'] >= 2000) & (data['year_of_release'] <= 2013)]\n",
    "# Проверка уникальных годов выпуска\n",
    "print(\"Уникальные годы выпуска в df_actual:\")\n",
    "print(df_actual['year_of_release'].unique())\n",
    "\n",
    "# Проверка количества строк\n",
    "print(\"Количество строк в df_actual:\", len(df_actual))"
   ]
  },
  {
   "cell_type": "markdown",
   "id": "9de2fb04",
   "metadata": {},
   "source": [
    "**Итоговый вывод\n",
    "Уникальные годы выпуска:**\n",
    "\n",
    "В df_actual представлены игры, выпущенные в следующие годы: 2000, 2001, 2002, 2003, 2004, 2005, 2006, 2007, 2008, 2009, 2010, 2011, 2012, 2013.\n",
    "\n",
    "Количество строк:\n",
    "\n",
    "В df_actual содержится 12 781 строка."
   ]
  },
  {
   "cell_type": "markdown",
   "id": "e2599185",
   "metadata": {},
   "source": [
    "<div class=\"alert alert-block alert-success\">✔️\n",
    "    \n",
    "\n",
    "__Комментарий от ревьюера №1__\n",
    "\n",
    "Таблица получилась корректной"
   ]
  },
  {
   "cell_type": "markdown",
   "id": "a6f10b01",
   "metadata": {
    "id": "a6f10b01"
   },
   "source": [
    "---\n",
    "\n",
    "## 4. Категоризация данных\n",
    "    \n",
    "Проведите категоризацию данных:\n",
    "- Разделите все игры по оценкам пользователей и выделите такие категории: высокая оценка (от 8 до 10 включительно), средняя оценка (от 3 до 8, не включая правую границу интервала) и низкая оценка (от 0 до 3, не включая правую границу интервала)."
   ]
  },
  {
   "cell_type": "markdown",
   "id": "2535105f",
   "metadata": {
    "id": "3db87229"
   },
   "source": [
    "**Для категоризации игр по оценкам пользователей (user_score)** создадим новый столбец (user_score_category) который будет содержать категории: высокая оценка, средняя оценка и низкая оценка."
   ]
  },
  {
   "cell_type": "code",
   "execution_count": 31,
   "id": "35438bd6",
   "metadata": {
    "id": "35438bd6"
   },
   "outputs": [
    {
     "name": "stdout",
     "output_type": "stream",
     "text": [
      "Распределение категорий оценок пользователей:\n",
      "средняя оценка    10379\n",
      "высокая оценка     2286\n",
      "низкая оценка       116\n",
      "Name: user_score_category, dtype: int64\n"
     ]
    },
    {
     "name": "stderr",
     "output_type": "stream",
     "text": [
      "/opt/conda/lib/python3.9/site-packages/pandas/core/indexing.py:1597: SettingWithCopyWarning: \n",
      "A value is trying to be set on a copy of a slice from a DataFrame.\n",
      "Try using .loc[row_indexer,col_indexer] = value instead\n",
      "\n",
      "See the caveats in the documentation: https://pandas.pydata.org/pandas-docs/stable/user_guide/indexing.html#returning-a-view-versus-a-copy\n",
      "  self.obj[key] = value\n",
      "/opt/conda/lib/python3.9/site-packages/pandas/core/indexing.py:1676: SettingWithCopyWarning: \n",
      "A value is trying to be set on a copy of a slice from a DataFrame.\n",
      "Try using .loc[row_indexer,col_indexer] = value instead\n",
      "\n",
      "See the caveats in the documentation: https://pandas.pydata.org/pandas-docs/stable/user_guide/indexing.html#returning-a-view-versus-a-copy\n",
      "  self._setitem_single_column(ilocs[0], value, pi)\n"
     ]
    }
   ],
   "source": [
    "# Создание категорий с использованием .loc\n",
    "df_actual.loc[:, 'user_score_category'] = pd.cut(\n",
    "    df_actual['user_score'],\n",
    "    bins=[0, 3, 8, 10],\n",
    "    labels=['низкая оценка', 'средняя оценка', 'высокая оценка'],\n",
    "    right=False  # Не включаем правую границу интервала\n",
    ")\n",
    "# Проверка распределения категорий\n",
    "print(\"Распределение категорий оценок пользователей:\")\n",
    "print(df_actual['user_score_category'].value_counts())"
   ]
  },
  {
   "cell_type": "markdown",
   "id": "65f697cb",
   "metadata": {},
   "source": [
    "<div class=\"alert alert-block alert-success\">✔️\n",
    "    \n",
    "\n",
    "__Комментарий от ревьюера №2__\n",
    "    \n",
    "Эти препреждения можно отключить вот так:\n",
    "\n",
    "\n",
    "    import warnings #импортируем библиотеку\n",
    "\n",
    "    warnings.filterwarnings('ignore') # отключаем предупреждения"
   ]
  },
  {
   "cell_type": "markdown",
   "id": "3f1583d1",
   "metadata": {},
   "source": [
    "<div class=\"alert alert-block alert-success\">✔️\n",
    "    \n",
    "\n",
    "__Комментарий от ревьюера №1__\n",
    "\n",
    "\n",
    "Отличная работа! Молодец, что внимательно учео настройку границ и использовал параметр `right=False`. Так как исключение правой границы `(right=False)` важно для правильной категоризации данных и предотвращения ошибок при распределении значений на границах интервалов."
   ]
  },
  {
   "cell_type": "markdown",
   "id": "a2c6c66f",
   "metadata": {},
   "source": [
    "**Распределение категорий оценок пользователей\n",
    "Средняя оценка (от 3 до 8, не включая 8):**\n",
    "\n",
    "Количество игр: 10 379.\n",
    "\n",
    "Это самая многочисленная категория, что говорит о том, что большинство игр получают средние оценки.\n",
    "\n",
    "Высокая оценка (от 8 до 10 включительно):\n",
    "\n",
    "Количество игр: 2 286.\n",
    "\n",
    "Игры с высокой оценкой составляют меньшую долю, но их количество всё же значительное.\n",
    "\n",
    "Низкая оценка (от 0 до 3, не включая 3):\n",
    "\n",
    "Количество игр: 116.\n",
    "\n",
    "Это самая маленькая категория, что указывает на то, что игры с очень низкими оценками встречаются редко.\n",
    "\n",
    "Итоговый вывод\n",
    "Категории созданы корректно:\n",
    "\n",
    "Средняя оценка: 10 379 игр.\n",
    "\n",
    "Высокая оценка: 2 286 игр.\n",
    "\n",
    "Низкая оценка: 116 игр."
   ]
  },
  {
   "cell_type": "code",
   "execution_count": 32,
   "id": "ca8b2f57",
   "metadata": {},
   "outputs": [
    {
     "name": "stdout",
     "output_type": "stream",
     "text": [
      "Распределение оценок по жанрам:\n",
      "genre         user_score_category\n",
      "action        средняя оценка         1970\n",
      "              высокая оценка          472\n",
      "              низкая оценка            18\n",
      "adventure     средняя оценка          912\n",
      "              высокая оценка           90\n",
      "              низкая оценка             7\n",
      "fighting      средняя оценка          439\n",
      "              высокая оценка          134\n",
      "              низкая оценка             7\n",
      "misc          средняя оценка         1372\n",
      "              высокая оценка           99\n",
      "              низкая оценка            13\n",
      "platform      средняя оценка          510\n",
      "              высокая оценка          165\n",
      "              низкая оценка             7\n",
      "puzzle        средняя оценка          423\n",
      "              высокая оценка           38\n",
      "              низкая оценка             4\n",
      "racing        средняя оценка          765\n",
      "              высокая оценка          190\n",
      "              низкая оценка            11\n",
      "role-playing  средняя оценка          806\n",
      "              высокая оценка          273\n",
      "shooter       средняя оценка          711\n",
      "              высокая оценка          271\n",
      "              низкая оценка            19\n",
      "simulation    средняя оценка          601\n",
      "              высокая оценка          116\n",
      "              низкая оценка             7\n",
      "sports        средняя оценка         1488\n",
      "              высокая оценка          319\n",
      "              низкая оценка            11\n",
      "strategy      средняя оценка          382\n",
      "              высокая оценка          119\n",
      "              низкая оценка            12\n",
      "Name: user_score_category, dtype: int64\n"
     ]
    }
   ],
   "source": [
    "# Распределение оценок по жанрам\n",
    "print(\"Распределение оценок по жанрам:\")\n",
    "print(df_actual.groupby('genre')['user_score_category'].value_counts())"
   ]
  },
  {
   "cell_type": "markdown",
   "id": "0ebf9bb4",
   "metadata": {},
   "source": [
    "**Анализ распределения оценок по жанрам**\n",
    "1. Жанры с наибольшим количеством игр с высокой оценкой:\n",
    "Action: 472 игры.\n",
    "\n",
    "Sports: 319 игр.\n",
    "\n",
    "Shooter: 271 игра.\n",
    "\n",
    "Role-Playing: 273 игры.\n",
    "\n",
    "Platform: 165 игр.\n",
    "\n",
    "**Вывод:**\n",
    "\n",
    "Жанры Action, Sports, Shooter и Role-Playing чаще получают высокие оценки от пользователей. Это может быть связано с популярностью этих жанров и их ориентированностью на массовую аудиторию.\n",
    "\n",
    "2. Жанры с наименьшим количеством игр с высокой оценкой:\n",
    "Puzzle: 38 игр.\n",
    "\n",
    "Adventure: 90 игр.\n",
    "\n",
    "Simulation: 116 игр.\n",
    "\n",
    "**Вывод:**\n",
    "\n",
    "Жанры Puzzle и Adventure реже получают высокие оценки. Возможно, это связано с меньшей популярностью или более нишевой аудиторией.\n",
    "\n",
    "3. Жанры с наибольшим количеством игр с низкой оценкой:\n",
    "Action: 18 игр.\n",
    "\n",
    "Shooter: 19 игр.\n",
    "\n",
    "Sports: 11 игр.\n",
    "\n",
    "**Вывод:**\n",
    "\n",
    "Даже в популярных жанрах (Action, Shooter, Sports) есть игры, которые получают низкие оценки. Это может быть связано с низким качеством или неудачными релизами.\n",
    "\n",
    "4. Жанры с наименьшим количеством игр с низкой оценкой:\n",
    "Puzzle: 4 игры.\n",
    "\n",
    "Adventure: 7 игр.\n",
    "\n",
    "Platform: 7 игр.\n",
    "\n",
    "**Вывод:**\n",
    "\n",
    "Жанры Puzzle и Adventure реже получают низкие оценки. Возможно, это связано с меньшим количеством выпускаемых игр или более лояльной аудиторией."
   ]
  },
  {
   "cell_type": "code",
   "execution_count": 33,
   "id": "bd1681b8",
   "metadata": {},
   "outputs": [
    {
     "name": "stdout",
     "output_type": "stream",
     "text": [
      "Распределение оценок по платформам:\n",
      "platform  user_score_category\n",
      "3DS       средняя оценка          278\n",
      "          высокая оценка           22\n",
      "DC        средняя оценка           23\n",
      "          высокая оценка            8\n",
      "DS        средняя оценка         1969\n",
      "          высокая оценка          135\n",
      "          низкая оценка            16\n",
      "GB        средняя оценка           27\n",
      "GBA       средняя оценка          676\n",
      "          высокая оценка          131\n",
      "          низкая оценка             4\n",
      "GC        средняя оценка          357\n",
      "          высокая оценка          181\n",
      "          низкая оценка             4\n",
      "N64       средняя оценка           70\n",
      "PC        средняя оценка          533\n",
      "          высокая оценка          228\n",
      "          низкая оценка             5\n",
      "PS        средняя оценка          226\n",
      "          высокая оценка           46\n",
      "          низкая оценка             2\n",
      "PS2       средняя оценка         1485\n",
      "          высокая оценка          635\n",
      "          низкая оценка             7\n",
      "PS3       средняя оценка          934\n",
      "          высокая оценка          139\n",
      "          низкая оценка            14\n",
      "PS4       средняя оценка           13\n",
      "          низкая оценка             3\n",
      "PSP       средняя оценка         1061\n",
      "          высокая оценка          115\n",
      "          низкая оценка             4\n",
      "PSV       средняя оценка          113\n",
      "          высокая оценка           19\n",
      "          низкая оценка             2\n",
      "WS        средняя оценка            4\n",
      "Wii       средняя оценка         1087\n",
      "          высокая оценка          161\n",
      "          низкая оценка            27\n",
      "WiiU      средняя оценка           65\n",
      "          высокая оценка            8\n",
      "          низкая оценка             1\n",
      "X360      средняя оценка          937\n",
      "          высокая оценка          168\n",
      "          низкая оценка            16\n",
      "XB        средняя оценка          502\n",
      "          высокая оценка          290\n",
      "          низкая оценка            11\n",
      "XOne      средняя оценка           19\n",
      "Name: user_score_category, dtype: int64\n"
     ]
    }
   ],
   "source": [
    "# Распределение оценок по платформам\n",
    "print(\"Распределение оценок по платформам:\")\n",
    "print(df_actual.groupby('platform')['user_score_category'].value_counts())"
   ]
  },
  {
   "cell_type": "markdown",
   "id": "0b37f1c7",
   "metadata": {},
   "source": [
    "**Анализ распределения оценок по платформам**\n",
    "1. Платформы с наибольшим количеством игр с высокой оценкой:\n",
    "PS2: 635 игр.\n",
    "\n",
    "XB (Xbox): 290 игр.\n",
    "\n",
    "PC: 228 игр.\n",
    "\n",
    "PS: 46 игр.\n",
    "\n",
    "GC (GameCube): 181 игра.\n",
    "\n",
    "**Вывод:**\n",
    "\n",
    "Платформы PS2, XB и PC чаще получают высокие оценки от пользователей. Это может быть связано с большим количеством качественных игр на этих платформах.\n",
    "\n",
    "2. Платформы с наименьшим количеством игр с высокой оценкой:\n",
    "DC (Dreamcast): 8 игр.\n",
    "\n",
    "WS (WonderSwan): 0 игр.\n",
    "\n",
    "PS4: 0 игр.\n",
    "\n",
    "XOne (Xbox One): 0 игр.\n",
    "\n",
    "**Вывод:**\n",
    "\n",
    "Платформы DC, WS, PS4 и XOne реже получают высокие оценки. Возможно, это связано с меньшим количеством игр или менее популярными платформами.\n",
    "\n",
    "3. Платформы с наибольшим количеством игр с низкой оценкой:\n",
    "DS: 16 игр.\n",
    "\n",
    "Wii: 27 игр.\n",
    "\n",
    "X360 (Xbox 360): 16 игр.\n",
    "\n",
    "**Вывод:**\n",
    "\n",
    "Даже на популярных платформах (DS, Wii, X360) есть игры, которые получают низкие оценки. Это может быть связано с низким качеством или неудачными релизами.\n",
    "\n",
    "4. Платформы с наименьшим количеством игр с низкой оценкой:\n",
    "PS4: 3 игры.\n",
    "\n",
    "PSV (PS Vita): 2 игры.\n",
    "\n",
    "WiiU: 1 игра.\n",
    "\n",
    "**Вывод:**\n",
    "\n",
    "Платформы PS4, PSV и WiiU реже получают низкие оценки. Возможно, это связано с меньшим количеством выпускаемых игр или более лояльной аудиторией."
   ]
  },
  {
   "cell_type": "markdown",
   "id": "f8f34b40",
   "metadata": {
    "id": "f8f34b40"
   },
   "source": [
    "- Разделите все игры по оценкам критиков и выделите такие категории: высокая оценка (от 80 до 100 включительно), средняя оценка (от 30 до 80, не включая правую границу интервала) и низкая оценка (от 0 до 30, не включая правую границу интервала)."
   ]
  },
  {
   "cell_type": "markdown",
   "id": "1db4c491",
   "metadata": {
    "id": "e3f7acb0"
   },
   "source": [
    "**Для категоризации игр по оценкам критиков (critic_score)** создадим новый столбец (critic_score_category) который будет содержать категории: высокая оценка, средняя оценка и низкая оценка"
   ]
  },
  {
   "cell_type": "markdown",
   "id": "5ac6c477",
   "metadata": {
    "id": "548fde17"
   },
   "source": [
    "**Используем функцию pd.cut() для разделения оценок на категории:**"
   ]
  },
  {
   "cell_type": "code",
   "execution_count": 34,
   "id": "c44b5e2f",
   "metadata": {},
   "outputs": [
    {
     "name": "stdout",
     "output_type": "stream",
     "text": [
      "Распределение категорий оценок критиков:\n",
      "средняя оценка    5422\n",
      "высокая оценка    1692\n",
      "низкая оценка       55\n",
      "Name: critic_score_category, dtype: int64\n"
     ]
    }
   ],
   "source": [
    "# Создание категорий с использованием .loc\n",
    "df_actual.loc[:, 'critic_score_category'] = pd.cut(\n",
    "    df_actual['critic_score'],\n",
    "    bins=[0, 30, 80, 100],\n",
    "    labels=['низкая оценка', 'средняя оценка', 'высокая оценка'],\n",
    "    right=False  # Не включаем правую границу интервала\n",
    ")\n",
    "# Проверка распределения категорий\n",
    "print(\"Распределение категорий оценок критиков:\")\n",
    "print(df_actual['critic_score_category'].value_counts())"
   ]
  },
  {
   "cell_type": "markdown",
   "id": "271f4de6",
   "metadata": {},
   "source": [
    "**Распределение категорий оценок критиков\n",
    "Средняя оценка (от 30 до 80, не включая 80):**\n",
    "\n",
    "Количество игр: 11 034.\n",
    "\n",
    "Это самая многочисленная категория, что говорит о том, что большинство игр получают средние оценки от критиков.\n",
    "\n",
    "Высокая оценка (от 80 до 100 включительно):\n",
    "\n",
    "Количество игр: 1 692.\n",
    "\n",
    "Игры с высокой оценкой составляют меньшую долю, но их количество всё же значительное.\n",
    "\n",
    "Низкая оценка (от 0 до 30, не включая 30):\n",
    "\n",
    "Количество игр: 55.\n",
    "\n",
    "Это самая маленькая категория, что указывает на то, что игры с очень низкими оценками критиков встречаются редко.\n",
    "\n",
    "**Итоговый вывод**\n",
    "Категории созданы корректно:\n",
    "\n",
    "Средняя оценка: 11 034 игры.\n",
    "\n",
    "Высокая оценка: 1 692 игры.\n",
    "\n",
    "Низкая оценка: 55 игр."
   ]
  },
  {
   "cell_type": "code",
   "execution_count": 35,
   "id": "d136d06b",
   "metadata": {
    "id": "d136d06b"
   },
   "outputs": [
    {
     "name": "stdout",
     "output_type": "stream",
     "text": [
      "Распределение оценок критиков по жанрам:\n",
      "genre         critic_score_category\n",
      "action        средняя оценка           1288\n",
      "              высокая оценка            303\n",
      "              низкая оценка              16\n",
      "adventure     средняя оценка            239\n",
      "              высокая оценка             36\n",
      "              низкая оценка               4\n",
      "fighting      средняя оценка            265\n",
      "              высокая оценка             93\n",
      "              низкая оценка               7\n",
      "misc          средняя оценка            393\n",
      "              высокая оценка             73\n",
      "              низкая оценка               8\n",
      "platform      средняя оценка            374\n",
      "              высокая оценка             82\n",
      "              низкая оценка               1\n",
      "puzzle        средняя оценка            182\n",
      "              высокая оценка             30\n",
      "              низкая оценка               2\n",
      "racing        средняя оценка            495\n",
      "              высокая оценка            162\n",
      "              низкая оценка              10\n",
      "role-playing  средняя оценка            435\n",
      "              высокая оценка            178\n",
      "shooter       средняя оценка            594\n",
      "              высокая оценка            231\n",
      "              низкая оценка               2\n",
      "simulation    средняя оценка            258\n",
      "              высокая оценка             59\n",
      "sports        средняя оценка            697\n",
      "              высокая оценка            375\n",
      "              низкая оценка               5\n",
      "strategy      средняя оценка            202\n",
      "              высокая оценка             70\n",
      "Name: critic_score_category, dtype: int64\n"
     ]
    }
   ],
   "source": [
    "# Распределение оценок по жанрам\n",
    "print(\"Распределение оценок критиков по жанрам:\")\n",
    "print(df_actual.groupby('genre')['critic_score_category'].value_counts())"
   ]
  },
  {
   "cell_type": "markdown",
   "id": "d2345770",
   "metadata": {},
   "source": [
    "**Анализ распределения оценок по жанрам**\n",
    "1. Жанры с наибольшим количеством игр с высокой оценкой:\n",
    "Action: 303 игры.\n",
    "\n",
    "Sports: 375 игр.\n",
    "\n",
    "Shooter: 231 игра.\n",
    "\n",
    "Role-Playing: 178 игр.\n",
    "\n",
    "Racing: 162 игры.\n",
    "\n",
    "**Вывод:**\n",
    "\n",
    "Жанры Action, Sports, Shooter и Role-Playing чаще получают высокие оценки от критиков. Это может быть связано с высоким качеством игр в этих жанрах и их популярностью среди разработчиков.\n",
    "\n",
    "2. Жанры с наименьшим количеством игр с высокой оценкой:\n",
    "Puzzle: 30 игр.\n",
    "\n",
    "Adventure: 36 игр.\n",
    "\n",
    "Simulation: 59 игр.\n",
    "\n",
    "**Вывод:**\n",
    "\n",
    "Жанры Puzzle и Adventure реже получают высокие оценки. Возможно, это связано с меньшим количеством выпускаемых игр или меньшим вниманием критиков к этим жанрам.\n",
    "\n",
    "3. Жанры с наибольшим количеством игр с низкой оценкой:\n",
    "Action: 16 игр.\n",
    "\n",
    "Racing: 10 игр.\n",
    "\n",
    "Fighting: 7 игр.\n",
    "\n",
    "**Вывод:**\n",
    "\n",
    "Даже в популярных жанрах (Action, Racing, Fighting) есть игры, которые получают низкие оценки. Это может быть связано с низким качеством или неудачными релизами.\n",
    "\n",
    "4. Жанры с наименьшим количеством игр с низкой оценкой:\n",
    "Puzzle: 2 игры.\n",
    "\n",
    "Platform: 1 игра.\n",
    "\n",
    "Shooter: 2 игры.\n",
    "\n",
    "**Вывод:**\n",
    "\n",
    "Жанры Puzzle, Platform и Shooter реже получают низкие оценки. Возможно, это связано с меньшим количеством выпускаемых игр или более высоким качеством.\n",
    "\n",
    "Итоговый вывод\n",
    "Популярные жанры:\n",
    "\n",
    "Action, Sports, Shooter и Role-Playing чаще получают высокие оценки, но также имеют больше игр с низкими оценками.\n"
   ]
  },
  {
   "cell_type": "code",
   "execution_count": 36,
   "id": "dd254ba9",
   "metadata": {},
   "outputs": [
    {
     "name": "stdout",
     "output_type": "stream",
     "text": [
      "Распределение оценок критиков по платформам:\n",
      "platform  critic_score_category\n",
      "3DS       средняя оценка            98\n",
      "          высокая оценка            17\n",
      "DC        высокая оценка            11\n",
      "DS        средняя оценка           618\n",
      "          высокая оценка            82\n",
      "          низкая оценка              8\n",
      "GBA       средняя оценка           353\n",
      "          высокая оценка            74\n",
      "          низкая оценка              3\n",
      "GC        средняя оценка           323\n",
      "          высокая оценка           111\n",
      "          низкая оценка              3\n",
      "PC        средняя оценка           328\n",
      "          высокая оценка           243\n",
      "PS        средняя оценка            85\n",
      "          высокая оценка            26\n",
      "          низкая оценка              4\n",
      "PS2       средняя оценка           994\n",
      "          высокая оценка           278\n",
      "          низкая оценка              3\n",
      "PS3       средняя оценка           523\n",
      "          высокая оценка           242\n",
      "          низкая оценка              3\n",
      "PS4       средняя оценка             9\n",
      "          высокая оценка             6\n",
      "PSP       средняя оценка           385\n",
      "          высокая оценка            70\n",
      "          низкая оценка              1\n",
      "PSV       средняя оценка            49\n",
      "          высокая оценка            16\n",
      "Wii       средняя оценка           489\n",
      "          высокая оценка            65\n",
      "          низкая оценка             14\n",
      "WiiU      средняя оценка            31\n",
      "          высокая оценка            15\n",
      "          низкая оценка              1\n",
      "X360      средняя оценка           616\n",
      "          высокая оценка           243\n",
      "          низкая оценка              9\n",
      "XB        средняя оценка           511\n",
      "          высокая оценка           190\n",
      "          низкая оценка              5\n",
      "XOne      средняя оценка            10\n",
      "          высокая оценка             3\n",
      "          низкая оценка              1\n",
      "Name: critic_score_category, dtype: int64\n"
     ]
    }
   ],
   "source": [
    "# Распределение оценок по платформам\n",
    "print(\"Распределение оценок критиков по платформам:\")\n",
    "print(df_actual.groupby('platform')['critic_score_category'].value_counts())"
   ]
  },
  {
   "cell_type": "markdown",
   "id": "28165394",
   "metadata": {},
   "source": [
    "**Анализ распределения оценок по платформам**\n",
    "1. Платформы с наибольшим количеством игр с высокой оценкой:\n",
    "PS2: 278 игр.\n",
    "\n",
    "PC: 243 игры.\n",
    "\n",
    "X360 (Xbox 360): 243 игры.\n",
    "\n",
    "PS3: 242 игры.\n",
    "\n",
    "XB (Xbox): 190 игр.\n",
    "\n",
    "**Вывод:**\n",
    "\n",
    "Платформы PS2, PC, X360 и PS3 чаще получают высокие оценки от критиков. Это может быть связано с большим количеством качественных игр на этих платформах.\n",
    "\n",
    "2. Платформы с наименьшим количеством игр с высокой оценкой:\n",
    "DC (Dreamcast): 11 игр.\n",
    "\n",
    "WS (WonderSwan): 0 игр.\n",
    "\n",
    "PS4: 6 игр.\n",
    "\n",
    "XOne (Xbox One): 3 игры.\n",
    "\n",
    "**Вывод:**\n",
    "\n",
    "Платформы DC, WS, PS4 и XOne реже получают высокие оценки. Возможно, это связано с меньшим количеством игр или менее популярными платформами.\n",
    "\n",
    "3. Платформы с наибольшим количеством игр с низкой оценкой:\n",
    "DS: 8 игр.\n",
    "\n",
    "Wii: 14 игр.\n",
    "\n",
    "X360 (Xbox 360): 9 игр.\n",
    "\n",
    "**Вывод:**\n",
    "\n",
    "Даже на популярных платформах (DS, Wii, X360) есть игры, которые получают низкие оценки. Это может быть связано с низким качеством или неудачными релизами.\n"
   ]
  },
  {
   "cell_type": "markdown",
   "id": "olkTlTlAUDR9",
   "metadata": {
    "id": "olkTlTlAUDR9"
   },
   "source": [
    "- После категоризации данных проверьте результат: сгруппируйте данные по выделенным категориям и посчитайте количество игр в каждой категории."
   ]
  },
  {
   "cell_type": "markdown",
   "id": "53f73f6a",
   "metadata": {
    "id": "HW0Nsp-4UMSL"
   },
   "source": [
    "**Для проверки результата категоризации данных сгруппируем данные по созданным категориям и посчитаем количество игр в каждой категории. Это можно сделать для обеих категоризаций: по оценкам пользователей (user_score_category) и по оценкам критиков (critic_score_category).**"
   ]
  },
  {
   "cell_type": "markdown",
   "id": "bc8bef51",
   "metadata": {
    "id": "x2ne0HIpUMMD"
   },
   "source": [
    "**Группировка по категориям оценок пользователей**"
   ]
  },
  {
   "cell_type": "code",
   "execution_count": 37,
   "id": "a27cd9f9",
   "metadata": {},
   "outputs": [
    {
     "name": "stdout",
     "output_type": "stream",
     "text": [
      "Количество игр по категориям оценок пользователей:\n",
      "средняя оценка    10379\n",
      "высокая оценка     2286\n",
      "низкая оценка       116\n",
      "Name: user_score_category, dtype: int64\n"
     ]
    }
   ],
   "source": [
    "# Группировка по категориям оценок пользователей\n",
    "user_score_counts = df_actual['user_score_category'].value_counts()\n",
    "\n",
    "# Вывод результата\n",
    "print(\"Количество игр по категориям оценок пользователей:\")\n",
    "print(user_score_counts)"
   ]
  },
  {
   "cell_type": "markdown",
   "id": "6b445336",
   "metadata": {},
   "source": [
    "**Группировка по категориям оценок критиков**"
   ]
  },
  {
   "cell_type": "code",
   "execution_count": 38,
   "id": "22e46f55",
   "metadata": {},
   "outputs": [
    {
     "name": "stdout",
     "output_type": "stream",
     "text": [
      "Количество игр по категориям оценок критиков:\n",
      "средняя оценка    5422\n",
      "высокая оценка    1692\n",
      "низкая оценка       55\n",
      "Name: critic_score_category, dtype: int64\n"
     ]
    }
   ],
   "source": [
    "# Группировка по категориям оценок критиков\n",
    "critic_score_counts = df_actual['critic_score_category'].value_counts()\n",
    "\n",
    "# Вывод результата\n",
    "print(\"Количество игр по категориям оценок критиков:\")\n",
    "print(critic_score_counts)"
   ]
  },
  {
   "cell_type": "markdown",
   "id": "b89d94e0",
   "metadata": {
    "id": "U6kiXU3JUMCc"
   },
   "source": [
    "**Итоговый вывод**\n",
    "Оценки пользователей:\n",
    "\n",
    "Средняя оценка: 10 379 игр.\n",
    "\n",
    "Высокая оценка: 2 286 игр.\n",
    "\n",
    "Низкая оценка: 116 игр.\n",
    "\n",
    "Оценки критиков:\n",
    "\n",
    "Средняя оценка: 11 034 игры.\n",
    "\n",
    "Высокая оценка: 1 692 игры.\n",
    "\n",
    "Низкая оценка: 55 игр.\n",
    "\n",
    "**Анализ результатов**\n",
    "Средние оценки:\n",
    "\n",
    "Большинство игр получают средние оценки как от пользователей, так и от критиков. Это говорит о том, что большинство игр находятся в \"середине\" по качеству.\n",
    "\n",
    "Высокие оценки:\n",
    "\n",
    "Игр с высокими оценками от пользователей больше, чем с высокими оценками от критиков (2 286 против 1 692). Возможно, пользователи более лояльны, чем критики.\n",
    "\n",
    "Низкие оценки:\n",
    "\n",
    "Игр с низкими оценками от критиков меньше, чем с низкими оценками от пользователей (55 против 116). Это может указывать на то, что критики реже ставят очень низкие оценки."
   ]
  },
  {
   "cell_type": "markdown",
   "id": "6a98444c",
   "metadata": {
    "id": "6a98444c"
   },
   "source": [
    "- Выделите топ-7 платформ по количеству игр, выпущенных за весь актуальный период."
   ]
  },
  {
   "cell_type": "markdown",
   "id": "786d73e9",
   "metadata": {
    "id": "003caa2c"
   },
   "source": [
    "**Группировка данных по платформам\n",
    "Сгруппируем данные по столбцу platform и посчитаем количество игр для каждой платформы:**"
   ]
  },
  {
   "cell_type": "code",
   "execution_count": 39,
   "id": "e8d8a1d0",
   "metadata": {
    "id": "e8d8a1d0"
   },
   "outputs": [
    {
     "name": "stdout",
     "output_type": "stream",
     "text": [
      "Количество игр по платформам:\n",
      "PS2     2127\n",
      "DS      2120\n",
      "Wii     1275\n",
      "PSP     1180\n",
      "X360    1121\n",
      "PS3     1087\n",
      "GBA      811\n",
      "XB       803\n",
      "PC       766\n",
      "GC       542\n",
      "3DS      300\n",
      "PS       274\n",
      "PSV      134\n",
      "WiiU      74\n",
      "N64       70\n",
      "DC        31\n",
      "GB        27\n",
      "XOne      19\n",
      "PS4       16\n",
      "WS         4\n",
      "Name: platform, dtype: int64\n"
     ]
    }
   ],
   "source": [
    "# Группировка по платформам и подсчёт количества игр\n",
    "platform_counts = df_actual['platform'].value_counts()\n",
    "\n",
    "# Вывод результата\n",
    "print(\"Количество игр по платформам:\")\n",
    "print(platform_counts)"
   ]
  },
  {
   "cell_type": "markdown",
   "id": "3d9f10ee",
   "metadata": {},
   "source": [
    "**Используем метод .head(7) для выбора топ-7 платформ:**"
   ]
  },
  {
   "cell_type": "code",
   "execution_count": 40,
   "id": "6fb24094",
   "metadata": {},
   "outputs": [
    {
     "name": "stdout",
     "output_type": "stream",
     "text": [
      "Топ-7 платформ по количеству игр:\n",
      "PS2     2127\n",
      "DS      2120\n",
      "Wii     1275\n",
      "PSP     1180\n",
      "X360    1121\n",
      "PS3     1087\n",
      "GBA      811\n",
      "Name: platform, dtype: int64\n"
     ]
    }
   ],
   "source": [
    "# Топ-7 платформ по количеству игр\n",
    "top_7_platforms = platform_counts.head(7)\n",
    "\n",
    "# Вывод результата\n",
    "print(\"Топ-7 платформ по количеству игр:\")\n",
    "print(top_7_platforms)"
   ]
  },
  {
   "cell_type": "markdown",
   "id": "29598723",
   "metadata": {},
   "source": [
    "**Топ-7 платформ по количеству игр\n",
    "PS2 (PlayStation 2):** 2127 игр.\n",
    "\n",
    "DS (Nintendo DS): 2120 игр.\n",
    "\n",
    "Wii (Nintendo Wii): 1275 игр.\n",
    "\n",
    "PSP (PlayStation Portable): 1180 игр.\n",
    "\n",
    "X360 (Xbox 360): 1121 игра.\n",
    "\n",
    "PS3 (PlayStation 3): 1087 игр.\n",
    "\n",
    "GBA (Game Boy Advance): 811 игр.\n",
    "\n",
    "**Итоговый вывод**\n",
    "Лидеры по количеству игр:\n",
    "\n",
    "PS2 и DS лидируют с большим отрывом, что говорит об их популярности в этот период.\n",
    "\n",
    "Wii, PSP, X360 и PS3 также имеют значительное количество игр, что подтверждает их успех на рынке.\n",
    "\n",
    "GBA завершает топ-7, что подчеркивает её важность в начале 2000-х.\n",
    "\n",
    "Данные готовы для анализа:\n",
    "\n",
    "Эти платформы можно считать самыми популярными в период с 2000 по 2013 год."
   ]
  },
  {
   "cell_type": "markdown",
   "id": "bcfd3095",
   "metadata": {},
   "source": [
    "<div class=\"alert alert-block alert-success\">✔️\n",
    "    \n",
    "\n",
    "__Комментарий от ревьюера №1__\n",
    "\n",
    "\n",
    "Отличная реализация. Молодец!"
   ]
  },
  {
   "cell_type": "markdown",
   "id": "c0158881",
   "metadata": {
    "id": "c0158881"
   },
   "source": [
    "---\n",
    "\n",
    "## 5. Итоговый вывод\n",
    "\n",
    "В конце напишите основной вывод и отразите, какую работу проделали. Не забудьте указать описание среза данных и новых полей, которые добавили в исходный датасет."
   ]
  },
  {
   "cell_type": "markdown",
   "id": "7af4e3ed",
   "metadata": {
    "id": "20175f5b"
   },
   "source": [
    "**Итоговый вывод**\n",
    "1. Проделанная работа:\n",
    "Предобработка данных:\n",
    "\n",
    "Проведена очистка данных: удалены дубликаты, обработаны пропуски, исправлены некорректные типы данных.\n",
    "\n",
    "Приведены к единому формату названия жанров, платформ и рейтингов.\n",
    "\n",
    "Категоризация данных:\n",
    "\n",
    "Игры разделены на категории по оценкам пользователей (user_score_category) и критиков (critic_score_category).\n",
    "\n",
    "Фильтрация данных:\n",
    "\n",
    "Выделен актуальный период (2000–2013 годы) для анализа истории продаж игр.\n",
    "\n",
    "Анализ данных:\n",
    "\n",
    "Проведена группировка и анализ данных по жанрам, платформам и рейтингам.\n",
    "\n",
    "Выделены топ-7 платформ по количеству выпущенных игр.\n",
    "\n",
    "2. Описание среза данных:\n",
    "Период: 2000–2013 годы.\n",
    "\n",
    "Количество строк: 12 781.\n",
    "\n",
    "Столбцы:\n",
    "\n",
    "Основные: name, platform, year_of_release, genre, na_sales, eu_sales, jp_sales, other_sales, critic_score, user_score, rating.\n",
    "\n",
    "Новые поля:\n",
    "\n",
    "user_score_category: категория оценки пользователей (низкая, средняя, высокая).\n",
    "\n",
    "critic_score_category: категория оценки критиков (низкая, средняя, высокая).\n",
    "\n",
    "3. Основные результаты:\n",
    "Топ-7 платформ по количеству игр:\n",
    "\n",
    "PS2, DS, Wii, PSP, X360, PS3, GBA.\n",
    "\n",
    "Распределение оценок:\n",
    "\n",
    "Большинство игр получают средние оценки как от пользователей, так и от критиков.\n",
    "\n",
    "Высокие оценки чаще получают игры на платформах PS2, PC, X360 и PS3.\n",
    "\n",
    "Жанры:\n",
    "\n",
    "Action, Sports, Shooter и Role-Playing чаще получают высокие оценки.\n",
    "\n",
    "Puzzle и Adventure реже получают высокие оценки, но и низкие оценки в этих жанрах встречаются реже."
   ]
  },
  {
   "cell_type": "markdown",
   "id": "4edbc362",
   "metadata": {},
   "source": [
    "<div class=\"alert alert-block alert-success\">✔️\n",
    "    \n",
    "\n",
    "__Комментарий от ревьюера №1__\n",
    "\n",
    "Шикарный вывод. Молодец, что описал все твои действия (кратко) по проекту. Ведь вывод раскрывает для заказчика всю твою проделанную работу и за что он платит деньги, даже если ему не интересен весь процесс исследования, то в отчёт он заглянет обязательно. Ты молодец!\n",
    "</div>"
   ]
  },
  {
   "cell_type": "markdown",
   "id": "f2da3964",
   "metadata": {},
   "source": []
  },
  {
   "cell_type": "markdown",
   "id": "099b1581",
   "metadata": {},
   "source": [
    "<div style=\"border:solid blue 3px; padding: 20px\">\n",
    "<div class=\"alert alert-block alert-success\">✔️\n",
    "    \n",
    "\n",
    "__Коментарий от ревьюера №2__\n",
    "\n",
    "\n",
    "В остальном всё чудно😊. Твой проект так и просится на github =)   \n",
    "    \n",
    "Поздравляю с успешным завершением проекта 😊👍\n",
    "И желаю успехов в новых работах 😊\n",
    "    \n",
    "---\n",
    "    \n",
    "От себя хочу порекомендовать тебе отличную книгу про язык Python. Она очень классная (можно купить как новую, так и на Авито попадается. Вот ссылка на pdf этой книги)\n",
    "    \n",
    "https://monster-book.com/avtomatizaciya-zadach-s-python\n",
    "</div>"
   ]
  }
 ],
 "metadata": {
  "ExecuteTimeLog": [
   {
    "duration": 49,
    "start_time": "2025-03-03T11:14:40.020Z"
   },
   {
    "duration": 3,
    "start_time": "2025-03-03T11:15:21.000Z"
   },
   {
    "duration": 576,
    "start_time": "2025-03-03T11:15:53.591Z"
   },
   {
    "duration": 2,
    "start_time": "2025-03-03T11:19:55.792Z"
   },
   {
    "duration": 55,
    "start_time": "2025-03-03T11:20:24.961Z"
   },
   {
    "duration": 55,
    "start_time": "2025-03-03T11:22:47.341Z"
   },
   {
    "duration": 51,
    "start_time": "2025-03-03T11:24:58.737Z"
   },
   {
    "duration": 55,
    "start_time": "2025-03-03T11:26:31.292Z"
   },
   {
    "duration": 66,
    "start_time": "2025-03-03T11:29:26.766Z"
   },
   {
    "duration": 54,
    "start_time": "2025-03-03T11:29:39.832Z"
   },
   {
    "duration": 55,
    "start_time": "2025-03-03T11:34:27.573Z"
   },
   {
    "duration": 10,
    "start_time": "2025-03-03T11:37:13.559Z"
   },
   {
    "duration": 39,
    "start_time": "2025-03-03T11:59:18.181Z"
   },
   {
    "duration": 9,
    "start_time": "2025-03-03T11:59:49.045Z"
   },
   {
    "duration": 19,
    "start_time": "2025-03-03T12:01:08.498Z"
   },
   {
    "duration": 143,
    "start_time": "2025-03-03T12:05:20.782Z"
   },
   {
    "duration": 137,
    "start_time": "2025-03-03T12:09:21.635Z"
   },
   {
    "duration": 784,
    "start_time": "2025-03-03T12:13:58.127Z"
   },
   {
    "duration": 13,
    "start_time": "2025-03-03T12:14:28.899Z"
   },
   {
    "duration": 149,
    "start_time": "2025-03-03T12:15:35.721Z"
   },
   {
    "duration": 6,
    "start_time": "2025-03-03T12:18:16.049Z"
   },
   {
    "duration": 9,
    "start_time": "2025-03-03T12:23:46.640Z"
   },
   {
    "duration": 132,
    "start_time": "2025-03-03T12:23:51.870Z"
   },
   {
    "duration": 6,
    "start_time": "2025-03-03T12:24:31.431Z"
   },
   {
    "duration": 9,
    "start_time": "2025-03-03T13:24:05.316Z"
   },
   {
    "duration": 10,
    "start_time": "2025-03-03T13:26:57.311Z"
   },
   {
    "duration": 9,
    "start_time": "2025-03-03T13:28:06.752Z"
   },
   {
    "duration": 9,
    "start_time": "2025-03-03T13:30:29.991Z"
   },
   {
    "duration": 43,
    "start_time": "2025-03-03T13:55:32.964Z"
   },
   {
    "duration": 80,
    "start_time": "2025-03-03T15:28:06.104Z"
   },
   {
    "duration": 572,
    "start_time": "2025-03-05T07:48:24.926Z"
   },
   {
    "duration": 45,
    "start_time": "2025-03-05T07:55:17.995Z"
   },
   {
    "duration": 10,
    "start_time": "2025-03-05T08:29:49.081Z"
   },
   {
    "duration": 12,
    "start_time": "2025-03-05T08:45:13.231Z"
   },
   {
    "duration": 95,
    "start_time": "2025-03-05T08:47:12.528Z"
   },
   {
    "duration": 7,
    "start_time": "2025-03-05T08:58:09.779Z"
   },
   {
    "duration": 29,
    "start_time": "2025-03-05T09:01:13.635Z"
   },
   {
    "duration": 9,
    "start_time": "2025-03-05T09:03:43.094Z"
   },
   {
    "duration": 2211,
    "start_time": "2025-03-05T09:10:12.904Z"
   },
   {
    "duration": 1121,
    "start_time": "2025-03-05T09:15:35.022Z"
   },
   {
    "duration": 45,
    "start_time": "2025-03-05T09:19:00.507Z"
   },
   {
    "duration": 4,
    "start_time": "2025-03-05T09:22:08.224Z"
   },
   {
    "duration": 5,
    "start_time": "2025-03-05T09:25:02.825Z"
   },
   {
    "duration": 11,
    "start_time": "2025-03-05T09:29:51.478Z"
   },
   {
    "duration": 5,
    "start_time": "2025-03-05T09:36:21.257Z"
   },
   {
    "duration": 9,
    "start_time": "2025-03-05T09:38:23.884Z"
   },
   {
    "duration": 16,
    "start_time": "2025-03-05T09:42:13.201Z"
   },
   {
    "duration": 17,
    "start_time": "2025-03-05T09:43:14.377Z"
   },
   {
    "duration": 11,
    "start_time": "2025-03-05T09:43:20.327Z"
   },
   {
    "duration": 10,
    "start_time": "2025-03-05T09:43:35.306Z"
   },
   {
    "duration": 10,
    "start_time": "2025-03-05T09:43:38.902Z"
   },
   {
    "duration": 11,
    "start_time": "2025-03-05T09:43:43.155Z"
   },
   {
    "duration": 11,
    "start_time": "2025-03-05T09:43:43.777Z"
   },
   {
    "duration": 11,
    "start_time": "2025-03-05T09:43:44.286Z"
   },
   {
    "duration": 13,
    "start_time": "2025-03-05T09:43:44.927Z"
   },
   {
    "duration": 11,
    "start_time": "2025-03-05T09:44:27.430Z"
   },
   {
    "duration": 7,
    "start_time": "2025-03-05T09:44:33.433Z"
   },
   {
    "duration": 10,
    "start_time": "2025-03-05T09:44:37.024Z"
   },
   {
    "duration": 52,
    "start_time": "2025-03-05T10:02:09.754Z"
   },
   {
    "duration": 8,
    "start_time": "2025-03-05T10:05:49.452Z"
   },
   {
    "duration": 17,
    "start_time": "2025-03-05T10:06:21.778Z"
   },
   {
    "duration": 43,
    "start_time": "2025-03-05T10:23:41.267Z"
   },
   {
    "duration": 41,
    "start_time": "2025-03-05T10:23:48.383Z"
   },
   {
    "duration": 369,
    "start_time": "2025-03-05T10:27:13.908Z"
   },
   {
    "duration": 3,
    "start_time": "2025-03-05T10:27:31.965Z"
   },
   {
    "duration": 2,
    "start_time": "2025-03-05T10:27:54.215Z"
   },
   {
    "duration": 44,
    "start_time": "2025-03-05T10:28:09.915Z"
   },
   {
    "duration": 19,
    "start_time": "2025-03-05T10:28:23.835Z"
   },
   {
    "duration": 17,
    "start_time": "2025-03-05T10:29:01.543Z"
   },
   {
    "duration": 14,
    "start_time": "2025-03-05T10:35:36.247Z"
   },
   {
    "duration": 61,
    "start_time": "2025-03-05T10:46:27.171Z"
   },
   {
    "duration": 3,
    "start_time": "2025-03-05T11:01:59.038Z"
   },
   {
    "duration": 4,
    "start_time": "2025-03-05T11:07:01.930Z"
   },
   {
    "duration": 13,
    "start_time": "2025-03-05T11:09:55.630Z"
   },
   {
    "duration": 12,
    "start_time": "2025-03-05T11:10:58.649Z"
   },
   {
    "duration": 12,
    "start_time": "2025-03-05T11:15:38.424Z"
   },
   {
    "duration": 12,
    "start_time": "2025-03-05T11:18:50.609Z"
   },
   {
    "duration": 14,
    "start_time": "2025-03-05T11:26:52.277Z"
   },
   {
    "duration": 15,
    "start_time": "2025-03-05T11:29:19.357Z"
   },
   {
    "duration": 20,
    "start_time": "2025-03-05T11:30:24.200Z"
   },
   {
    "duration": 12,
    "start_time": "2025-03-05T11:39:09.888Z"
   },
   {
    "duration": 9,
    "start_time": "2025-03-05T11:39:31.705Z"
   },
   {
    "duration": 9,
    "start_time": "2025-03-05T11:40:45.561Z"
   },
   {
    "duration": 9,
    "start_time": "2025-03-05T11:54:22.465Z"
   },
   {
    "duration": 9,
    "start_time": "2025-03-05T11:56:18.231Z"
   },
   {
    "duration": 6,
    "start_time": "2025-03-05T11:57:54.406Z"
   },
   {
    "duration": 9,
    "start_time": "2025-03-05T12:02:54.835Z"
   },
   {
    "duration": 8,
    "start_time": "2025-03-05T12:07:10.196Z"
   },
   {
    "duration": 124,
    "start_time": "2025-03-05T12:07:22.496Z"
   },
   {
    "duration": 6,
    "start_time": "2025-03-05T12:07:34.391Z"
   },
   {
    "duration": 292,
    "start_time": "2025-03-05T12:07:46.008Z"
   },
   {
    "duration": 12,
    "start_time": "2025-03-05T12:07:57.335Z"
   },
   {
    "duration": 12,
    "start_time": "2025-03-05T12:14:49.487Z"
   },
   {
    "duration": 10,
    "start_time": "2025-03-05T12:18:02.073Z"
   },
   {
    "duration": 4,
    "start_time": "2025-03-05T12:23:07.420Z"
   },
   {
    "duration": 5,
    "start_time": "2025-03-05T12:26:06.521Z"
   },
   {
    "duration": 10,
    "start_time": "2025-03-05T12:37:55.993Z"
   },
   {
    "duration": 5,
    "start_time": "2025-03-05T12:41:59.717Z"
   },
   {
    "duration": 3,
    "start_time": "2025-03-05T12:43:41.925Z"
   },
   {
    "duration": 4,
    "start_time": "2025-03-05T12:43:45.852Z"
   },
   {
    "duration": 7,
    "start_time": "2025-03-05T12:52:11.422Z"
   },
   {
    "duration": 6,
    "start_time": "2025-03-05T12:53:58.713Z"
   },
   {
    "duration": 19,
    "start_time": "2025-03-05T12:56:45.961Z"
   },
   {
    "duration": 65,
    "start_time": "2025-03-05T13:31:37.472Z"
   },
   {
    "duration": 51,
    "start_time": "2025-03-05T13:32:22.811Z"
   },
   {
    "duration": 15,
    "start_time": "2025-03-05T13:32:53.038Z"
   },
   {
    "duration": 16,
    "start_time": "2025-03-05T13:35:35.399Z"
   },
   {
    "duration": 15,
    "start_time": "2025-03-05T13:36:35.923Z"
   },
   {
    "duration": 81,
    "start_time": "2025-03-05T13:38:52.403Z"
   },
   {
    "duration": 20,
    "start_time": "2025-03-05T13:40:51.062Z"
   },
   {
    "duration": 12,
    "start_time": "2025-03-05T13:41:48.355Z"
   },
   {
    "duration": 494,
    "start_time": "2025-03-05T13:43:42.429Z"
   },
   {
    "duration": 5,
    "start_time": "2025-03-05T13:44:03.563Z"
   },
   {
    "duration": 5,
    "start_time": "2025-03-05T13:44:07.876Z"
   },
   {
    "duration": 5,
    "start_time": "2025-03-05T13:44:10.365Z"
   },
   {
    "duration": 4,
    "start_time": "2025-03-05T13:53:51.854Z"
   },
   {
    "duration": 5,
    "start_time": "2025-03-05T14:13:34.007Z"
   },
   {
    "duration": 62,
    "start_time": "2025-03-05T14:14:07.686Z"
   },
   {
    "duration": 15,
    "start_time": "2025-03-05T14:14:13.378Z"
   },
   {
    "duration": 14,
    "start_time": "2025-03-05T14:16:49.059Z"
   },
   {
    "duration": 12,
    "start_time": "2025-03-05T14:17:35.278Z"
   },
   {
    "duration": 44,
    "start_time": "2025-03-05T14:17:58.179Z"
   },
   {
    "duration": 46,
    "start_time": "2025-03-05T14:20:28.803Z"
   },
   {
    "duration": 442,
    "start_time": "2025-03-05T14:20:59.883Z"
   },
   {
    "duration": 23,
    "start_time": "2025-03-05T14:21:08.694Z"
   },
   {
    "duration": 16,
    "start_time": "2025-03-05T14:21:13.267Z"
   },
   {
    "duration": 14,
    "start_time": "2025-03-05T14:21:15.987Z"
   },
   {
    "duration": 3,
    "start_time": "2025-03-05T14:23:23.364Z"
   },
   {
    "duration": 4,
    "start_time": "2025-03-05T14:25:18.065Z"
   },
   {
    "duration": 13,
    "start_time": "2025-03-05T14:26:28.557Z"
   },
   {
    "duration": 29,
    "start_time": "2025-03-05T14:38:16.303Z"
   },
   {
    "duration": 7,
    "start_time": "2025-03-05T14:39:03.736Z"
   },
   {
    "duration": 13,
    "start_time": "2025-03-05T14:39:14.836Z"
   },
   {
    "duration": 24,
    "start_time": "2025-03-05T14:40:30.766Z"
   },
   {
    "duration": 14,
    "start_time": "2025-03-05T14:42:11.604Z"
   },
   {
    "duration": 8,
    "start_time": "2025-03-05T14:42:35.583Z"
   },
   {
    "duration": 11,
    "start_time": "2025-03-05T14:42:50.667Z"
   },
   {
    "duration": 7,
    "start_time": "2025-03-05T14:43:06.732Z"
   },
   {
    "duration": 4,
    "start_time": "2025-03-05T14:43:28.802Z"
   },
   {
    "duration": 6,
    "start_time": "2025-03-05T14:43:52.731Z"
   },
   {
    "duration": 23,
    "start_time": "2025-03-05T14:44:01.338Z"
   },
   {
    "duration": 6,
    "start_time": "2025-03-05T14:50:38.986Z"
   },
   {
    "duration": 30,
    "start_time": "2025-03-05T14:51:06.997Z"
   },
   {
    "duration": 51,
    "start_time": "2025-03-05T14:55:55.890Z"
   },
   {
    "duration": 474,
    "start_time": "2025-03-05T14:56:18.054Z"
   },
   {
    "duration": 14,
    "start_time": "2025-03-05T14:56:22.739Z"
   },
   {
    "duration": 1076,
    "start_time": "2025-03-05T14:56:36.255Z"
   },
   {
    "duration": 15,
    "start_time": "2025-03-05T14:57:20.480Z"
   },
   {
    "duration": 52,
    "start_time": "2025-03-05T14:58:32.107Z"
   },
   {
    "duration": 995,
    "start_time": "2025-03-05T14:59:17.973Z"
   },
   {
    "duration": 455,
    "start_time": "2025-03-05T15:02:32.620Z"
   },
   {
    "duration": 59,
    "start_time": "2025-03-05T15:03:02.956Z"
   },
   {
    "duration": 22,
    "start_time": "2025-03-05T15:03:28.409Z"
   },
   {
    "duration": 54,
    "start_time": "2025-03-05T15:09:46.771Z"
   },
   {
    "duration": 15,
    "start_time": "2025-03-05T15:11:39.778Z"
   },
   {
    "duration": 53,
    "start_time": "2025-03-05T15:15:34.715Z"
   },
   {
    "duration": 17,
    "start_time": "2025-03-05T15:15:38.547Z"
   },
   {
    "duration": 3,
    "start_time": "2025-03-05T15:21:11.754Z"
   },
   {
    "duration": 4,
    "start_time": "2025-03-05T15:22:42.930Z"
   },
   {
    "duration": 13,
    "start_time": "2025-03-05T15:23:19.606Z"
   },
   {
    "duration": 15,
    "start_time": "2025-03-05T15:31:45.894Z"
   },
   {
    "duration": 67,
    "start_time": "2025-03-05T15:38:22.870Z"
   },
   {
    "duration": 14,
    "start_time": "2025-03-05T15:40:22.703Z"
   },
   {
    "duration": 10,
    "start_time": "2025-03-05T15:48:14.760Z"
   },
   {
    "duration": 19,
    "start_time": "2025-03-05T15:49:09.367Z"
   },
   {
    "duration": 13,
    "start_time": "2025-03-05T15:49:15.135Z"
   },
   {
    "duration": 14,
    "start_time": "2025-03-05T15:50:33.072Z"
   },
   {
    "duration": 8,
    "start_time": "2025-03-05T15:50:41.153Z"
   },
   {
    "duration": 4,
    "start_time": "2025-03-05T15:50:52.146Z"
   },
   {
    "duration": 7,
    "start_time": "2025-03-05T15:51:05.635Z"
   },
   {
    "duration": 6,
    "start_time": "2025-03-05T15:51:23.451Z"
   },
   {
    "duration": 7,
    "start_time": "2025-03-05T15:51:38.122Z"
   },
   {
    "duration": 8,
    "start_time": "2025-03-05T15:51:51.968Z"
   },
   {
    "duration": 16,
    "start_time": "2025-03-05T15:52:09.002Z"
   },
   {
    "duration": 7,
    "start_time": "2025-03-05T15:53:42.635Z"
   },
   {
    "duration": 15,
    "start_time": "2025-03-05T15:54:00.828Z"
   },
   {
    "duration": 5,
    "start_time": "2025-03-05T15:54:21.078Z"
   },
   {
    "duration": 3,
    "start_time": "2025-03-05T15:54:31.370Z"
   },
   {
    "duration": 7,
    "start_time": "2025-03-05T15:54:47.423Z"
   },
   {
    "duration": 3,
    "start_time": "2025-03-05T15:55:05.779Z"
   },
   {
    "duration": 26,
    "start_time": "2025-03-05T15:55:14.226Z"
   },
   {
    "duration": 14,
    "start_time": "2025-03-05T16:02:36.686Z"
   },
   {
    "duration": 17,
    "start_time": "2025-03-05T16:11:34.017Z"
   },
   {
    "duration": 14,
    "start_time": "2025-03-05T16:12:46.876Z"
   },
   {
    "duration": 5,
    "start_time": "2025-03-05T16:13:26.032Z"
   },
   {
    "duration": 14,
    "start_time": "2025-03-05T16:13:57.456Z"
   },
   {
    "duration": 16,
    "start_time": "2025-03-05T16:15:15.687Z"
   },
   {
    "duration": 6,
    "start_time": "2025-03-05T16:17:04.096Z"
   },
   {
    "duration": 4,
    "start_time": "2025-03-05T16:28:22.539Z"
   },
   {
    "duration": 11,
    "start_time": "2025-03-05T16:33:33.467Z"
   },
   {
    "duration": 5,
    "start_time": "2025-03-05T16:36:29.152Z"
   },
   {
    "duration": 5,
    "start_time": "2025-03-05T16:38:38.382Z"
   },
   {
    "duration": 13,
    "start_time": "2025-03-05T16:41:02.640Z"
   },
   {
    "duration": 9,
    "start_time": "2025-03-05T16:42:37.772Z"
   },
   {
    "duration": 9,
    "start_time": "2025-03-05T16:44:07.588Z"
   },
   {
    "duration": 6,
    "start_time": "2025-03-05T16:45:02.730Z"
   },
   {
    "duration": 6,
    "start_time": "2025-03-05T16:48:06.993Z"
   },
   {
    "duration": 6,
    "start_time": "2025-03-05T16:49:57.079Z"
   },
   {
    "duration": 4,
    "start_time": "2025-03-05T16:51:33.540Z"
   },
   {
    "duration": 5,
    "start_time": "2025-03-05T16:55:04.966Z"
   },
   {
    "duration": 3,
    "start_time": "2025-03-05T16:56:53.404Z"
   },
   {
    "duration": 28,
    "start_time": "2025-03-05T17:00:35.198Z"
   },
   {
    "duration": 8,
    "start_time": "2025-03-05T17:00:55.053Z"
   },
   {
    "duration": 13,
    "start_time": "2025-03-05T17:03:34.991Z"
   },
   {
    "duration": 17,
    "start_time": "2025-03-05T17:04:42.267Z"
   },
   {
    "duration": 5,
    "start_time": "2025-03-05T17:15:11.343Z"
   },
   {
    "duration": 7,
    "start_time": "2025-03-05T17:15:36.699Z"
   },
   {
    "duration": 271,
    "start_time": "2025-03-05T17:16:23.229Z"
   },
   {
    "duration": 6,
    "start_time": "2025-03-05T17:22:48.953Z"
   },
   {
    "duration": 10,
    "start_time": "2025-03-05T17:24:10.577Z"
   },
   {
    "duration": 256,
    "start_time": "2025-03-05T17:25:03.397Z"
   },
   {
    "duration": 6,
    "start_time": "2025-03-05T17:25:34.299Z"
   },
   {
    "duration": 8,
    "start_time": "2025-03-05T17:27:17.381Z"
   },
   {
    "duration": 8,
    "start_time": "2025-03-05T17:27:33.349Z"
   },
   {
    "duration": 8,
    "start_time": "2025-03-05T17:30:17.398Z"
   },
   {
    "duration": 8,
    "start_time": "2025-03-05T17:32:42.446Z"
   },
   {
    "duration": 6,
    "start_time": "2025-03-05T17:49:12.412Z"
   },
   {
    "duration": 8,
    "start_time": "2025-03-05T17:49:26.899Z"
   },
   {
    "duration": 8,
    "start_time": "2025-03-05T17:49:53.207Z"
   },
   {
    "duration": 7,
    "start_time": "2025-03-05T17:52:11.199Z"
   },
   {
    "duration": 6,
    "start_time": "2025-03-05T17:52:17.294Z"
   },
   {
    "duration": 10,
    "start_time": "2025-03-05T17:52:35.276Z"
   },
   {
    "duration": 7,
    "start_time": "2025-03-05T17:59:05.677Z"
   },
   {
    "duration": 7,
    "start_time": "2025-03-05T18:05:06.301Z"
   },
   {
    "duration": 5,
    "start_time": "2025-03-05T18:11:29.690Z"
   },
   {
    "duration": 4,
    "start_time": "2025-03-05T18:12:17.534Z"
   },
   {
    "duration": 6,
    "start_time": "2025-03-05T18:18:48.041Z"
   },
   {
    "duration": 4,
    "start_time": "2025-03-05T18:21:09.126Z"
   },
   {
    "duration": 437,
    "start_time": "2025-03-05T18:30:18.701Z"
   },
   {
    "duration": 15,
    "start_time": "2025-03-05T18:30:22.340Z"
   },
   {
    "duration": 3,
    "start_time": "2025-03-05T18:30:34.385Z"
   },
   {
    "duration": 4,
    "start_time": "2025-03-05T18:30:38.027Z"
   },
   {
    "duration": 13,
    "start_time": "2025-03-05T18:30:44.123Z"
   },
   {
    "duration": 14,
    "start_time": "2025-03-05T18:30:53.047Z"
   },
   {
    "duration": 9,
    "start_time": "2025-03-05T18:30:57.338Z"
   },
   {
    "duration": 14,
    "start_time": "2025-03-05T18:31:03.414Z"
   },
   {
    "duration": 13,
    "start_time": "2025-03-05T18:31:04.787Z"
   },
   {
    "duration": 4,
    "start_time": "2025-03-05T18:31:06.770Z"
   },
   {
    "duration": 80,
    "start_time": "2025-03-05T18:31:08.424Z"
   },
   {
    "duration": 13,
    "start_time": "2025-03-05T18:31:15.014Z"
   },
   {
    "duration": 22,
    "start_time": "2025-03-05T18:31:18.184Z"
   },
   {
    "duration": 13,
    "start_time": "2025-03-05T18:31:22.379Z"
   },
   {
    "duration": 18,
    "start_time": "2025-03-05T18:31:24.345Z"
   },
   {
    "duration": 11,
    "start_time": "2025-03-05T18:31:30.545Z"
   },
   {
    "duration": 4,
    "start_time": "2025-03-05T18:31:44.124Z"
   },
   {
    "duration": 13,
    "start_time": "2025-03-05T18:31:51.480Z"
   },
   {
    "duration": 6,
    "start_time": "2025-03-05T18:31:55.858Z"
   },
   {
    "duration": 5,
    "start_time": "2025-03-05T18:31:57.997Z"
   },
   {
    "duration": 13,
    "start_time": "2025-03-05T18:32:00.065Z"
   },
   {
    "duration": 8,
    "start_time": "2025-03-05T18:32:03.985Z"
   },
   {
    "duration": 5,
    "start_time": "2025-03-05T18:32:06.763Z"
   },
   {
    "duration": 4,
    "start_time": "2025-03-05T18:32:09.101Z"
   },
   {
    "duration": 11,
    "start_time": "2025-03-05T18:32:17.250Z"
   },
   {
    "duration": 22,
    "start_time": "2025-03-05T18:32:19.275Z"
   },
   {
    "duration": 8,
    "start_time": "2025-03-05T18:32:29.056Z"
   },
   {
    "duration": 9,
    "start_time": "2025-03-05T18:32:38.147Z"
   },
   {
    "duration": 8,
    "start_time": "2025-03-05T18:32:46.156Z"
   },
   {
    "duration": 7,
    "start_time": "2025-03-05T18:32:50.964Z"
   },
   {
    "duration": 9,
    "start_time": "2025-03-05T18:32:56.715Z"
   },
   {
    "duration": 8,
    "start_time": "2025-03-05T18:33:01.620Z"
   },
   {
    "duration": 11,
    "start_time": "2025-03-05T18:33:06.714Z"
   },
   {
    "duration": 5,
    "start_time": "2025-03-05T18:33:12.621Z"
   },
   {
    "duration": 6,
    "start_time": "2025-03-05T18:33:16.143Z"
   },
   {
    "duration": 5,
    "start_time": "2025-03-05T18:33:22.303Z"
   },
   {
    "duration": 4,
    "start_time": "2025-03-05T18:33:25.039Z"
   },
   {
    "duration": 9,
    "start_time": "2025-03-05T18:40:10.336Z"
   },
   {
    "duration": 8,
    "start_time": "2025-03-05T18:40:51.378Z"
   },
   {
    "duration": 10,
    "start_time": "2025-03-05T18:42:22.056Z"
   },
   {
    "duration": 10,
    "start_time": "2025-03-05T18:45:55.317Z"
   },
   {
    "duration": 445,
    "start_time": "2025-03-05T18:46:54.171Z"
   },
   {
    "duration": 16,
    "start_time": "2025-03-05T18:46:57.640Z"
   },
   {
    "duration": 4,
    "start_time": "2025-03-05T18:47:04.901Z"
   },
   {
    "duration": 4,
    "start_time": "2025-03-05T18:47:08.125Z"
   },
   {
    "duration": 13,
    "start_time": "2025-03-05T18:47:11.326Z"
   },
   {
    "duration": 16,
    "start_time": "2025-03-05T18:47:17.736Z"
   },
   {
    "duration": 11,
    "start_time": "2025-03-05T18:47:20.651Z"
   },
   {
    "duration": 15,
    "start_time": "2025-03-05T18:47:26.998Z"
   },
   {
    "duration": 13,
    "start_time": "2025-03-05T18:47:30.127Z"
   },
   {
    "duration": 3,
    "start_time": "2025-03-05T18:47:31.769Z"
   },
   {
    "duration": 12,
    "start_time": "2025-03-05T18:47:35.317Z"
   },
   {
    "duration": 12,
    "start_time": "2025-03-05T18:47:39.287Z"
   },
   {
    "duration": 23,
    "start_time": "2025-03-05T18:47:41.972Z"
   },
   {
    "duration": 5,
    "start_time": "2025-03-05T18:47:45.684Z"
   },
   {
    "duration": 17,
    "start_time": "2025-03-05T18:47:47.560Z"
   },
   {
    "duration": 10,
    "start_time": "2025-03-05T18:47:52.307Z"
   },
   {
    "duration": 4,
    "start_time": "2025-03-05T18:48:04.051Z"
   },
   {
    "duration": 11,
    "start_time": "2025-03-05T18:48:06.001Z"
   },
   {
    "duration": 5,
    "start_time": "2025-03-05T18:48:08.978Z"
   },
   {
    "duration": 6,
    "start_time": "2025-03-05T18:48:10.211Z"
   },
   {
    "duration": 7,
    "start_time": "2025-03-05T18:48:11.908Z"
   },
   {
    "duration": 4,
    "start_time": "2025-03-05T18:48:13.443Z"
   },
   {
    "duration": 4,
    "start_time": "2025-03-05T18:48:15.307Z"
   },
   {
    "duration": 4,
    "start_time": "2025-03-05T18:48:15.961Z"
   },
   {
    "duration": 11,
    "start_time": "2025-03-05T18:48:20.867Z"
   },
   {
    "duration": 16,
    "start_time": "2025-03-05T18:48:22.682Z"
   },
   {
    "duration": 7,
    "start_time": "2025-03-05T18:48:27.473Z"
   },
   {
    "duration": 9,
    "start_time": "2025-03-05T18:48:33.339Z"
   },
   {
    "duration": 7,
    "start_time": "2025-03-05T18:48:38.411Z"
   },
   {
    "duration": 8,
    "start_time": "2025-03-05T18:48:43.547Z"
   },
   {
    "duration": 8,
    "start_time": "2025-03-05T18:48:48.027Z"
   },
   {
    "duration": 9,
    "start_time": "2025-03-05T18:48:53.805Z"
   },
   {
    "duration": 8,
    "start_time": "2025-03-05T18:48:58.061Z"
   },
   {
    "duration": 5,
    "start_time": "2025-03-05T18:49:01.527Z"
   },
   {
    "duration": 6,
    "start_time": "2025-03-05T18:49:03.905Z"
   },
   {
    "duration": 5,
    "start_time": "2025-03-05T18:49:06.646Z"
   },
   {
    "duration": 5,
    "start_time": "2025-03-05T18:49:09.115Z"
   },
   {
    "duration": 431,
    "start_time": "2025-03-05T18:55:03.596Z"
   },
   {
    "duration": 15,
    "start_time": "2025-03-05T18:55:05.484Z"
   },
   {
    "duration": 3,
    "start_time": "2025-03-05T18:55:09.566Z"
   },
   {
    "duration": 5,
    "start_time": "2025-03-05T18:55:11.637Z"
   },
   {
    "duration": 13,
    "start_time": "2025-03-05T18:55:12.755Z"
   },
   {
    "duration": 21,
    "start_time": "2025-03-05T18:55:18.629Z"
   },
   {
    "duration": 10,
    "start_time": "2025-03-05T18:55:25.592Z"
   },
   {
    "duration": 20,
    "start_time": "2025-03-05T18:55:29.142Z"
   },
   {
    "duration": 14,
    "start_time": "2025-03-05T18:55:31.367Z"
   },
   {
    "duration": 3,
    "start_time": "2025-03-05T18:55:32.256Z"
   },
   {
    "duration": 13,
    "start_time": "2025-03-05T18:55:37.137Z"
   },
   {
    "duration": 13,
    "start_time": "2025-03-05T18:55:41.155Z"
   },
   {
    "duration": 24,
    "start_time": "2025-03-05T18:55:43.842Z"
   },
   {
    "duration": 6,
    "start_time": "2025-03-05T18:55:47.545Z"
   },
   {
    "duration": 25,
    "start_time": "2025-03-05T18:55:49.467Z"
   },
   {
    "duration": 10,
    "start_time": "2025-03-05T18:55:52.867Z"
   },
   {
    "duration": 4,
    "start_time": "2025-03-05T18:56:00.397Z"
   },
   {
    "duration": 10,
    "start_time": "2025-03-05T18:56:02.449Z"
   },
   {
    "duration": 4,
    "start_time": "2025-03-05T18:56:04.575Z"
   },
   {
    "duration": 6,
    "start_time": "2025-03-05T18:56:06.328Z"
   },
   {
    "duration": 6,
    "start_time": "2025-03-05T18:56:06.545Z"
   },
   {
    "duration": 4,
    "start_time": "2025-03-05T18:56:09.234Z"
   },
   {
    "duration": 4,
    "start_time": "2025-03-05T18:56:09.788Z"
   },
   {
    "duration": 4,
    "start_time": "2025-03-05T18:56:10.344Z"
   },
   {
    "duration": 11,
    "start_time": "2025-03-05T18:56:14.845Z"
   },
   {
    "duration": 16,
    "start_time": "2025-03-05T18:56:15.377Z"
   },
   {
    "duration": 7,
    "start_time": "2025-03-05T18:56:20.048Z"
   },
   {
    "duration": 10,
    "start_time": "2025-03-05T18:56:25.100Z"
   },
   {
    "duration": 8,
    "start_time": "2025-03-05T18:56:28.764Z"
   },
   {
    "duration": 8,
    "start_time": "2025-03-05T18:56:30.691Z"
   },
   {
    "duration": 8,
    "start_time": "2025-03-05T18:56:35.701Z"
   },
   {
    "duration": 10,
    "start_time": "2025-03-05T18:56:38.620Z"
   },
   {
    "duration": 8,
    "start_time": "2025-03-05T18:56:41.970Z"
   },
   {
    "duration": 5,
    "start_time": "2025-03-05T18:56:44.984Z"
   },
   {
    "duration": 5,
    "start_time": "2025-03-05T18:56:46.833Z"
   },
   {
    "duration": 6,
    "start_time": "2025-03-05T18:56:49.559Z"
   },
   {
    "duration": 4,
    "start_time": "2025-03-05T18:56:51.413Z"
   },
   {
    "duration": 602,
    "start_time": "2025-03-06T10:25:40.434Z"
   },
   {
    "duration": 18,
    "start_time": "2025-03-06T10:25:41.038Z"
   },
   {
    "duration": 3,
    "start_time": "2025-03-06T10:25:41.058Z"
   },
   {
    "duration": 18,
    "start_time": "2025-03-06T10:25:41.063Z"
   },
   {
    "duration": 36,
    "start_time": "2025-03-06T10:25:41.083Z"
   },
   {
    "duration": 22,
    "start_time": "2025-03-06T10:25:41.121Z"
   },
   {
    "duration": 11,
    "start_time": "2025-03-06T10:25:41.145Z"
   },
   {
    "duration": 73,
    "start_time": "2025-03-06T10:25:41.159Z"
   },
   {
    "duration": 19,
    "start_time": "2025-03-06T10:25:41.235Z"
   },
   {
    "duration": 14,
    "start_time": "2025-03-06T10:25:41.256Z"
   },
   {
    "duration": 36,
    "start_time": "2025-03-06T10:25:41.271Z"
   },
   {
    "duration": 15,
    "start_time": "2025-03-06T10:25:41.308Z"
   },
   {
    "duration": 27,
    "start_time": "2025-03-06T10:25:41.325Z"
   },
   {
    "duration": 5,
    "start_time": "2025-03-06T10:25:41.356Z"
   },
   {
    "duration": 18,
    "start_time": "2025-03-06T10:25:41.373Z"
   },
   {
    "duration": 15,
    "start_time": "2025-03-06T10:25:41.393Z"
   },
   {
    "duration": 4,
    "start_time": "2025-03-06T10:25:41.410Z"
   },
   {
    "duration": 13,
    "start_time": "2025-03-06T10:25:41.416Z"
   },
   {
    "duration": 6,
    "start_time": "2025-03-06T10:25:41.430Z"
   },
   {
    "duration": 39,
    "start_time": "2025-03-06T10:25:41.438Z"
   },
   {
    "duration": 12,
    "start_time": "2025-03-06T10:25:41.478Z"
   },
   {
    "duration": 14,
    "start_time": "2025-03-06T10:25:41.492Z"
   },
   {
    "duration": 9,
    "start_time": "2025-03-06T10:25:41.508Z"
   },
   {
    "duration": 11,
    "start_time": "2025-03-06T10:25:41.519Z"
   },
   {
    "duration": 14,
    "start_time": "2025-03-06T10:25:41.531Z"
   },
   {
    "duration": 42,
    "start_time": "2025-03-06T10:25:41.546Z"
   },
   {
    "duration": 33,
    "start_time": "2025-03-06T10:25:41.590Z"
   },
   {
    "duration": 29,
    "start_time": "2025-03-06T10:25:41.625Z"
   },
   {
    "duration": 9,
    "start_time": "2025-03-06T10:25:41.656Z"
   },
   {
    "duration": 11,
    "start_time": "2025-03-06T10:25:41.666Z"
   },
   {
    "duration": 10,
    "start_time": "2025-03-06T10:25:41.679Z"
   },
   {
    "duration": 10,
    "start_time": "2025-03-06T10:25:41.690Z"
   },
   {
    "duration": 10,
    "start_time": "2025-03-06T10:25:41.701Z"
   },
   {
    "duration": 6,
    "start_time": "2025-03-06T10:25:41.712Z"
   },
   {
    "duration": 5,
    "start_time": "2025-03-06T10:25:41.719Z"
   },
   {
    "duration": 47,
    "start_time": "2025-03-06T10:25:41.726Z"
   },
   {
    "duration": 8,
    "start_time": "2025-03-06T10:25:41.775Z"
   },
   {
    "duration": 840,
    "start_time": "2025-03-06T13:05:26.303Z"
   },
   {
    "duration": 82,
    "start_time": "2025-03-06T13:09:21.993Z"
   },
   {
    "duration": 73,
    "start_time": "2025-03-06T13:10:14.908Z"
   },
   {
    "duration": 51,
    "start_time": "2025-03-06T13:10:44.877Z"
   },
   {
    "duration": 1055,
    "start_time": "2025-03-06T13:18:12.500Z"
   },
   {
    "duration": 51,
    "start_time": "2025-03-06T13:27:42.923Z"
   },
   {
    "duration": 50,
    "start_time": "2025-03-06T13:28:13.049Z"
   },
   {
    "duration": 482,
    "start_time": "2025-03-06T13:28:35.736Z"
   },
   {
    "duration": 49,
    "start_time": "2025-03-06T13:28:42.529Z"
   },
   {
    "duration": 15,
    "start_time": "2025-03-06T13:28:47.951Z"
   },
   {
    "duration": 73,
    "start_time": "2025-03-06T13:29:02.562Z"
   },
   {
    "duration": 4,
    "start_time": "2025-03-06T13:29:09.279Z"
   },
   {
    "duration": 5,
    "start_time": "2025-03-06T13:29:12.967Z"
   },
   {
    "duration": 19,
    "start_time": "2025-03-06T13:29:19.531Z"
   },
   {
    "duration": 24,
    "start_time": "2025-03-06T13:29:26.947Z"
   },
   {
    "duration": 16,
    "start_time": "2025-03-06T13:29:29.570Z"
   },
   {
    "duration": 24,
    "start_time": "2025-03-06T13:29:34.746Z"
   },
   {
    "duration": 17,
    "start_time": "2025-03-06T13:29:36.610Z"
   },
   {
    "duration": 4,
    "start_time": "2025-03-06T13:29:40.042Z"
   },
   {
    "duration": 12,
    "start_time": "2025-03-06T13:29:41.992Z"
   },
   {
    "duration": 12,
    "start_time": "2025-03-06T13:30:10.109Z"
   },
   {
    "duration": 26,
    "start_time": "2025-03-06T13:30:12.577Z"
   },
   {
    "duration": 4,
    "start_time": "2025-03-06T13:30:16.750Z"
   },
   {
    "duration": 16,
    "start_time": "2025-03-06T13:30:22.426Z"
   },
   {
    "duration": 10,
    "start_time": "2025-03-06T13:30:26.599Z"
   },
   {
    "duration": 4,
    "start_time": "2025-03-06T13:30:36.434Z"
   },
   {
    "duration": 11,
    "start_time": "2025-03-06T13:30:38.633Z"
   },
   {
    "duration": 4,
    "start_time": "2025-03-06T13:30:40.890Z"
   },
   {
    "duration": 5,
    "start_time": "2025-03-06T13:30:42.795Z"
   },
   {
    "duration": 6,
    "start_time": "2025-03-06T13:30:44.117Z"
   },
   {
    "duration": 5,
    "start_time": "2025-03-06T13:30:46.180Z"
   },
   {
    "duration": 6,
    "start_time": "2025-03-06T13:30:46.412Z"
   },
   {
    "duration": 4,
    "start_time": "2025-03-06T13:30:47.869Z"
   },
   {
    "duration": 13,
    "start_time": "2025-03-06T13:30:52.620Z"
   },
   {
    "duration": 19,
    "start_time": "2025-03-06T13:30:54.526Z"
   },
   {
    "duration": 8,
    "start_time": "2025-03-06T13:31:00.103Z"
   },
   {
    "duration": 10,
    "start_time": "2025-03-06T13:31:05.418Z"
   },
   {
    "duration": 9,
    "start_time": "2025-03-06T13:31:10.814Z"
   },
   {
    "duration": 8,
    "start_time": "2025-03-06T13:31:14.623Z"
   },
   {
    "duration": 10,
    "start_time": "2025-03-06T13:31:19.672Z"
   },
   {
    "duration": 8,
    "start_time": "2025-03-06T13:31:22.631Z"
   },
   {
    "duration": 8,
    "start_time": "2025-03-06T13:31:28.323Z"
   },
   {
    "duration": 5,
    "start_time": "2025-03-06T13:31:35.920Z"
   },
   {
    "duration": 6,
    "start_time": "2025-03-06T13:31:38.193Z"
   },
   {
    "duration": 6,
    "start_time": "2025-03-06T13:31:43.066Z"
   },
   {
    "duration": 4,
    "start_time": "2025-03-06T13:31:45.307Z"
   },
   {
    "duration": 15,
    "start_time": "2025-03-06T13:34:00.014Z"
   },
   {
    "duration": 59,
    "start_time": "2025-03-06T13:36:25.558Z"
   },
   {
    "duration": 55,
    "start_time": "2025-03-06T13:36:29.902Z"
   },
   {
    "duration": 15,
    "start_time": "2025-03-06T13:36:33.083Z"
   },
   {
    "duration": 79,
    "start_time": "2025-03-06T13:36:35.457Z"
   },
   {
    "duration": 3,
    "start_time": "2025-03-06T13:36:39.585Z"
   },
   {
    "duration": 4,
    "start_time": "2025-03-06T13:36:41.518Z"
   },
   {
    "duration": 13,
    "start_time": "2025-03-06T13:36:45.958Z"
   },
   {
    "duration": 15,
    "start_time": "2025-03-06T13:36:51.657Z"
   },
   {
    "duration": 489,
    "start_time": "2025-03-06T13:37:14.240Z"
   },
   {
    "duration": 49,
    "start_time": "2025-03-06T13:37:18.748Z"
   },
   {
    "duration": 18,
    "start_time": "2025-03-06T13:37:21.194Z"
   },
   {
    "duration": 75,
    "start_time": "2025-03-06T13:37:23.267Z"
   },
   {
    "duration": 3,
    "start_time": "2025-03-06T13:37:27.883Z"
   },
   {
    "duration": 4,
    "start_time": "2025-03-06T13:37:30.048Z"
   },
   {
    "duration": 20,
    "start_time": "2025-03-06T13:37:32.492Z"
   },
   {
    "duration": 24,
    "start_time": "2025-03-06T13:37:35.902Z"
   },
   {
    "duration": 11,
    "start_time": "2025-03-06T13:37:38.141Z"
   },
   {
    "duration": 15,
    "start_time": "2025-03-06T13:37:41.562Z"
   },
   {
    "duration": 14,
    "start_time": "2025-03-06T13:37:41.959Z"
   },
   {
    "duration": 3,
    "start_time": "2025-03-06T13:37:44.067Z"
   },
   {
    "duration": 13,
    "start_time": "2025-03-06T13:37:44.350Z"
   },
   {
    "duration": 14,
    "start_time": "2025-03-06T13:37:45.867Z"
   },
   {
    "duration": 12,
    "start_time": "2025-03-06T13:37:47.983Z"
   },
   {
    "duration": 25,
    "start_time": "2025-03-06T13:37:48.366Z"
   },
   {
    "duration": 5,
    "start_time": "2025-03-06T13:37:50.847Z"
   },
   {
    "duration": 15,
    "start_time": "2025-03-06T13:37:51.369Z"
   },
   {
    "duration": 9,
    "start_time": "2025-03-06T13:37:53.890Z"
   },
   {
    "duration": 5,
    "start_time": "2025-03-06T13:37:58.959Z"
   },
   {
    "duration": 11,
    "start_time": "2025-03-06T13:38:01.123Z"
   },
   {
    "duration": 5,
    "start_time": "2025-03-06T13:38:03.688Z"
   },
   {
    "duration": 8,
    "start_time": "2025-03-06T13:38:05.703Z"
   },
   {
    "duration": 7,
    "start_time": "2025-03-06T13:38:05.953Z"
   },
   {
    "duration": 5,
    "start_time": "2025-03-06T13:38:07.972Z"
   },
   {
    "duration": 8,
    "start_time": "2025-03-06T13:38:08.211Z"
   },
   {
    "duration": 3,
    "start_time": "2025-03-06T13:38:08.519Z"
   },
   {
    "duration": 13,
    "start_time": "2025-03-06T13:38:12.310Z"
   },
   {
    "duration": 18,
    "start_time": "2025-03-06T13:38:14.339Z"
   },
   {
    "duration": 7,
    "start_time": "2025-03-06T13:38:17.477Z"
   },
   {
    "duration": 9,
    "start_time": "2025-03-06T13:38:20.138Z"
   },
   {
    "duration": 11,
    "start_time": "2025-03-06T13:38:23.497Z"
   },
   {
    "duration": 9,
    "start_time": "2025-03-06T13:38:25.142Z"
   },
   {
    "duration": 9,
    "start_time": "2025-03-06T13:38:29.668Z"
   },
   {
    "duration": 8,
    "start_time": "2025-03-06T13:38:31.686Z"
   },
   {
    "duration": 9,
    "start_time": "2025-03-06T13:38:33.565Z"
   },
   {
    "duration": 5,
    "start_time": "2025-03-06T13:38:36.419Z"
   },
   {
    "duration": 6,
    "start_time": "2025-03-06T13:38:37.414Z"
   },
   {
    "duration": 6,
    "start_time": "2025-03-06T13:38:39.634Z"
   },
   {
    "duration": 5,
    "start_time": "2025-03-06T13:38:41.537Z"
   },
   {
    "duration": 677,
    "start_time": "2025-03-06T15:55:17.559Z"
   },
   {
    "duration": 68,
    "start_time": "2025-03-06T15:55:18.238Z"
   },
   {
    "duration": 15,
    "start_time": "2025-03-06T15:55:18.308Z"
   },
   {
    "duration": 261,
    "start_time": "2025-03-06T15:55:18.325Z"
   },
   {
    "duration": 4,
    "start_time": "2025-03-06T15:55:18.587Z"
   },
   {
    "duration": 8,
    "start_time": "2025-03-06T15:55:18.592Z"
   },
   {
    "duration": 65,
    "start_time": "2025-03-06T15:55:18.601Z"
   },
   {
    "duration": 28,
    "start_time": "2025-03-06T15:55:18.667Z"
   },
   {
    "duration": 15,
    "start_time": "2025-03-06T15:55:18.697Z"
   },
   {
    "duration": 15,
    "start_time": "2025-03-06T15:55:18.715Z"
   },
   {
    "duration": 20,
    "start_time": "2025-03-06T15:55:18.731Z"
   },
   {
    "duration": 11,
    "start_time": "2025-03-06T15:55:18.753Z"
   },
   {
    "duration": 23,
    "start_time": "2025-03-06T15:55:18.765Z"
   },
   {
    "duration": 205,
    "start_time": "2025-03-06T15:55:18.789Z"
   },
   {
    "duration": 23,
    "start_time": "2025-03-06T15:55:18.995Z"
   },
   {
    "duration": 30,
    "start_time": "2025-03-06T15:55:19.020Z"
   },
   {
    "duration": 122,
    "start_time": "2025-03-06T15:55:19.052Z"
   },
   {
    "duration": 21,
    "start_time": "2025-03-06T15:55:19.176Z"
   },
   {
    "duration": 10,
    "start_time": "2025-03-06T15:55:19.199Z"
   },
   {
    "duration": 13,
    "start_time": "2025-03-06T15:55:19.211Z"
   },
   {
    "duration": 26,
    "start_time": "2025-03-06T15:55:19.226Z"
   },
   {
    "duration": 9,
    "start_time": "2025-03-06T15:55:19.254Z"
   },
   {
    "duration": 19,
    "start_time": "2025-03-06T15:55:19.264Z"
   },
   {
    "duration": 31,
    "start_time": "2025-03-06T15:55:19.285Z"
   },
   {
    "duration": 7,
    "start_time": "2025-03-06T15:55:19.317Z"
   },
   {
    "duration": 5,
    "start_time": "2025-03-06T15:55:19.326Z"
   },
   {
    "duration": 9,
    "start_time": "2025-03-06T15:55:19.333Z"
   },
   {
    "duration": 16,
    "start_time": "2025-03-06T15:55:19.345Z"
   },
   {
    "duration": 16,
    "start_time": "2025-03-06T15:55:19.363Z"
   },
   {
    "duration": 6,
    "start_time": "2025-03-06T15:55:19.381Z"
   },
   {
    "duration": 19,
    "start_time": "2025-03-06T15:55:19.389Z"
   },
   {
    "duration": 7,
    "start_time": "2025-03-06T15:55:19.410Z"
   },
   {
    "duration": 9,
    "start_time": "2025-03-06T15:55:19.419Z"
   },
   {
    "duration": 38,
    "start_time": "2025-03-06T15:55:19.429Z"
   },
   {
    "duration": 8,
    "start_time": "2025-03-06T15:55:19.468Z"
   },
   {
    "duration": 16,
    "start_time": "2025-03-06T15:55:19.478Z"
   },
   {
    "duration": 4,
    "start_time": "2025-03-06T15:55:19.496Z"
   },
   {
    "duration": 15,
    "start_time": "2025-03-06T15:55:19.502Z"
   },
   {
    "duration": 8,
    "start_time": "2025-03-06T15:55:19.519Z"
   },
   {
    "duration": 9,
    "start_time": "2025-03-06T15:55:19.529Z"
   }
  ],
  "colab": {
   "provenance": []
  },
  "kernelspec": {
   "display_name": "Python 3 (ipykernel)",
   "language": "python",
   "name": "python3"
  },
  "language_info": {
   "codemirror_mode": {
    "name": "ipython",
    "version": 3
   },
   "file_extension": ".py",
   "mimetype": "text/x-python",
   "name": "python",
   "nbconvert_exporter": "python",
   "pygments_lexer": "ipython3",
   "version": "3.9.5"
  },
  "toc": {
   "base_numbering": 1,
   "nav_menu": {},
   "number_sections": true,
   "sideBar": true,
   "skip_h1_title": true,
   "title_cell": "Table of Contents",
   "title_sidebar": "Contents",
   "toc_cell": false,
   "toc_position": {},
   "toc_section_display": true,
   "toc_window_display": true
  }
 },
 "nbformat": 4,
 "nbformat_minor": 5
}
